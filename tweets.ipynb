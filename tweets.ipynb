{
  "nbformat": 4,
  "nbformat_minor": 0,
  "metadata": {
    "colab": {
      "name": "tweets.ipynb",
      "provenance": [],
      "toc_visible": true,
      "mount_file_id": "1X7aoeL_elZ8Ovt378SPs5f3U8QUlgvTs",
      "authorship_tag": "ABX9TyMcK74Nxe76Qg23nwXpx9sd",
      "include_colab_link": true
    },
    "kernelspec": {
      "name": "python3",
      "display_name": "Python 3"
    }
  },
  "cells": [
    {
      "cell_type": "markdown",
      "metadata": {
        "id": "view-in-github",
        "colab_type": "text"
      },
      "source": [
        "<a href=\"https://colab.research.google.com/github/arthurnovello/ECM514-Ciencia_dos_Dados/blob/master/tweets.ipynb\" target=\"_parent\"><img src=\"https://colab.research.google.com/assets/colab-badge.svg\" alt=\"Open In Colab\"/></a>"
      ]
    },
    {
      "cell_type": "markdown",
      "metadata": {
        "id": "zyVEFen5O8Ls",
        "colab_type": "text"
      },
      "source": [
        "# Analise de Tweets - ECM514"
      ]
    },
    {
      "cell_type": "code",
      "metadata": {
        "id": "39z53YQbO62A",
        "colab_type": "code",
        "colab": {
          "base_uri": "https://localhost:8080/",
          "height": 885
        },
        "outputId": "9bcfe666-1cd7-4df5-aba6-d4a8ed72fdbb"
      },
      "source": [
        "# Imports\n",
        "import nltk\n",
        "nltk.download('popular')\n",
        "nltk.download('wordnet')\n",
        "import pandas as pd\n",
        "import numpy as np\n",
        "import re\n",
        "import unicodedata\n",
        "from nltk.tokenize import word_tokenize\n",
        "from nltk.corpus import stopwords\n",
        "from nltk.corpus import wordnet\n",
        "from nltk.stem import WordNetLemmatizer \n",
        "from string import punctuation\n",
        "from sklearn.model_selection import train_test_split\n",
        "from sklearn.feature_extraction.text import CountVectorizer\n",
        "from sklearn.naive_bayes import MultinomialNB\n",
        "from sklearn.metrics import plot_confusion_matrix\n",
        "import matplotlib.pyplot as plt"
      ],
      "execution_count": null,
      "outputs": [
        {
          "output_type": "stream",
          "text": [
            "[nltk_data] Downloading collection 'popular'\n",
            "[nltk_data]    | \n",
            "[nltk_data]    | Downloading package cmudict to /root/nltk_data...\n",
            "[nltk_data]    |   Package cmudict is already up-to-date!\n",
            "[nltk_data]    | Downloading package gazetteers to /root/nltk_data...\n",
            "[nltk_data]    |   Package gazetteers is already up-to-date!\n",
            "[nltk_data]    | Downloading package genesis to /root/nltk_data...\n",
            "[nltk_data]    |   Package genesis is already up-to-date!\n",
            "[nltk_data]    | Downloading package gutenberg to /root/nltk_data...\n",
            "[nltk_data]    |   Package gutenberg is already up-to-date!\n",
            "[nltk_data]    | Downloading package inaugural to /root/nltk_data...\n",
            "[nltk_data]    |   Package inaugural is already up-to-date!\n",
            "[nltk_data]    | Downloading package movie_reviews to\n",
            "[nltk_data]    |     /root/nltk_data...\n",
            "[nltk_data]    |   Package movie_reviews is already up-to-date!\n",
            "[nltk_data]    | Downloading package names to /root/nltk_data...\n",
            "[nltk_data]    |   Package names is already up-to-date!\n",
            "[nltk_data]    | Downloading package shakespeare to /root/nltk_data...\n",
            "[nltk_data]    |   Package shakespeare is already up-to-date!\n",
            "[nltk_data]    | Downloading package stopwords to /root/nltk_data...\n",
            "[nltk_data]    |   Package stopwords is already up-to-date!\n",
            "[nltk_data]    | Downloading package treebank to /root/nltk_data...\n",
            "[nltk_data]    |   Package treebank is already up-to-date!\n",
            "[nltk_data]    | Downloading package twitter_samples to\n",
            "[nltk_data]    |     /root/nltk_data...\n",
            "[nltk_data]    |   Package twitter_samples is already up-to-date!\n",
            "[nltk_data]    | Downloading package omw to /root/nltk_data...\n",
            "[nltk_data]    |   Package omw is already up-to-date!\n",
            "[nltk_data]    | Downloading package wordnet to /root/nltk_data...\n",
            "[nltk_data]    |   Package wordnet is already up-to-date!\n",
            "[nltk_data]    | Downloading package wordnet_ic to /root/nltk_data...\n",
            "[nltk_data]    |   Package wordnet_ic is already up-to-date!\n",
            "[nltk_data]    | Downloading package words to /root/nltk_data...\n",
            "[nltk_data]    |   Package words is already up-to-date!\n",
            "[nltk_data]    | Downloading package maxent_ne_chunker to\n",
            "[nltk_data]    |     /root/nltk_data...\n",
            "[nltk_data]    |   Package maxent_ne_chunker is already up-to-date!\n",
            "[nltk_data]    | Downloading package punkt to /root/nltk_data...\n",
            "[nltk_data]    |   Package punkt is already up-to-date!\n",
            "[nltk_data]    | Downloading package snowball_data to\n",
            "[nltk_data]    |     /root/nltk_data...\n",
            "[nltk_data]    |   Package snowball_data is already up-to-date!\n",
            "[nltk_data]    | Downloading package averaged_perceptron_tagger to\n",
            "[nltk_data]    |     /root/nltk_data...\n",
            "[nltk_data]    |   Package averaged_perceptron_tagger is already up-\n",
            "[nltk_data]    |       to-date!\n",
            "[nltk_data]    | \n",
            "[nltk_data]  Done downloading collection popular\n",
            "[nltk_data] Downloading package wordnet to /root/nltk_data...\n",
            "[nltk_data]   Package wordnet is already up-to-date!\n"
          ],
          "name": "stdout"
        }
      ]
    },
    {
      "cell_type": "code",
      "metadata": {
        "id": "fC3AR6MxPGt2",
        "colab_type": "code",
        "colab": {
          "base_uri": "https://localhost:8080/",
          "height": 206
        },
        "outputId": "9705878e-9a16-4fbc-9ba6-6daf5948bb6a"
      },
      "source": [
        "df = pd.read_csv('/content/drive/My Drive/Colab Notebooks/ecm514_datasets/tweets.csv', sep = \",\", encoding = \"ISO-8859-1\", header = None)\n",
        "df.head()"
      ],
      "execution_count": null,
      "outputs": [
        {
          "output_type": "execute_result",
          "data": {
            "text/html": [
              "<div>\n",
              "<style scoped>\n",
              "    .dataframe tbody tr th:only-of-type {\n",
              "        vertical-align: middle;\n",
              "    }\n",
              "\n",
              "    .dataframe tbody tr th {\n",
              "        vertical-align: top;\n",
              "    }\n",
              "\n",
              "    .dataframe thead th {\n",
              "        text-align: right;\n",
              "    }\n",
              "</style>\n",
              "<table border=\"1\" class=\"dataframe\">\n",
              "  <thead>\n",
              "    <tr style=\"text-align: right;\">\n",
              "      <th></th>\n",
              "      <th>0</th>\n",
              "      <th>1</th>\n",
              "      <th>2</th>\n",
              "      <th>3</th>\n",
              "      <th>4</th>\n",
              "      <th>5</th>\n",
              "    </tr>\n",
              "  </thead>\n",
              "  <tbody>\n",
              "    <tr>\n",
              "      <th>0</th>\n",
              "      <td>0</td>\n",
              "      <td>1467810369</td>\n",
              "      <td>Mon Apr 06 22:19:45 PDT 2009</td>\n",
              "      <td>NO_QUERY</td>\n",
              "      <td>_TheSpecialOne_</td>\n",
              "      <td>@switchfoot http://twitpic.com/2y1zl - Awww, t...</td>\n",
              "    </tr>\n",
              "    <tr>\n",
              "      <th>1</th>\n",
              "      <td>0</td>\n",
              "      <td>1467810672</td>\n",
              "      <td>Mon Apr 06 22:19:49 PDT 2009</td>\n",
              "      <td>NO_QUERY</td>\n",
              "      <td>scotthamilton</td>\n",
              "      <td>is upset that he can't update his Facebook by ...</td>\n",
              "    </tr>\n",
              "    <tr>\n",
              "      <th>2</th>\n",
              "      <td>0</td>\n",
              "      <td>1467810917</td>\n",
              "      <td>Mon Apr 06 22:19:53 PDT 2009</td>\n",
              "      <td>NO_QUERY</td>\n",
              "      <td>mattycus</td>\n",
              "      <td>@Kenichan I dived many times for the ball. Man...</td>\n",
              "    </tr>\n",
              "    <tr>\n",
              "      <th>3</th>\n",
              "      <td>0</td>\n",
              "      <td>1467811184</td>\n",
              "      <td>Mon Apr 06 22:19:57 PDT 2009</td>\n",
              "      <td>NO_QUERY</td>\n",
              "      <td>ElleCTF</td>\n",
              "      <td>my whole body feels itchy and like its on fire</td>\n",
              "    </tr>\n",
              "    <tr>\n",
              "      <th>4</th>\n",
              "      <td>0</td>\n",
              "      <td>1467811193</td>\n",
              "      <td>Mon Apr 06 22:19:57 PDT 2009</td>\n",
              "      <td>NO_QUERY</td>\n",
              "      <td>Karoli</td>\n",
              "      <td>@nationwideclass no, it's not behaving at all....</td>\n",
              "    </tr>\n",
              "  </tbody>\n",
              "</table>\n",
              "</div>"
            ],
            "text/plain": [
              "   0  ...                                                  5\n",
              "0  0  ...  @switchfoot http://twitpic.com/2y1zl - Awww, t...\n",
              "1  0  ...  is upset that he can't update his Facebook by ...\n",
              "2  0  ...  @Kenichan I dived many times for the ball. Man...\n",
              "3  0  ...    my whole body feels itchy and like its on fire \n",
              "4  0  ...  @nationwideclass no, it's not behaving at all....\n",
              "\n",
              "[5 rows x 6 columns]"
            ]
          },
          "metadata": {
            "tags": []
          },
          "execution_count": 2
        }
      ]
    },
    {
      "cell_type": "code",
      "metadata": {
        "id": "Dl4Vl8l1PcuF",
        "colab_type": "code",
        "colab": {
          "base_uri": "https://localhost:8080/",
          "height": 35
        },
        "outputId": "23e899fe-e2b9-4a5b-a950-d150c0b93c91"
      },
      "source": [
        "df[0].unique()"
      ],
      "execution_count": null,
      "outputs": [
        {
          "output_type": "execute_result",
          "data": {
            "text/plain": [
              "array([0, 4])"
            ]
          },
          "metadata": {
            "tags": []
          },
          "execution_count": 3
        }
      ]
    },
    {
      "cell_type": "markdown",
      "metadata": {
        "id": "6o3vdSgHm418",
        "colab_type": "text"
      },
      "source": [
        "# Tratamento"
      ]
    },
    {
      "cell_type": "code",
      "metadata": {
        "id": "OOZkjxwTgL19",
        "colab_type": "code",
        "colab": {
          "base_uri": "https://localhost:8080/",
          "height": 69
        },
        "outputId": "dc1b8f57-b138-4b80-82d3-7ad5670d6a08"
      },
      "source": [
        "df[0].replace({4:1},inplace = True)\n",
        "df[0].unique()\n",
        "df[0].value_counts()"
      ],
      "execution_count": null,
      "outputs": [
        {
          "output_type": "execute_result",
          "data": {
            "text/plain": [
              "1    800000\n",
              "0    800000\n",
              "Name: 0, dtype: int64"
            ]
          },
          "metadata": {
            "tags": []
          },
          "execution_count": 5
        }
      ]
    },
    {
      "cell_type": "code",
      "metadata": {
        "id": "KzNrNU18Q47s",
        "colab_type": "code",
        "colab": {
          "base_uri": "https://localhost:8080/",
          "height": 34
        },
        "outputId": "8842246b-534a-47b5-fc2a-fff5af1a1cca"
      },
      "source": [
        "df[3].unique()"
      ],
      "execution_count": null,
      "outputs": [
        {
          "output_type": "execute_result",
          "data": {
            "text/plain": [
              "array(['NO_QUERY'], dtype=object)"
            ]
          },
          "metadata": {
            "tags": []
          },
          "execution_count": 9
        }
      ]
    },
    {
      "cell_type": "code",
      "metadata": {
        "id": "SLOuyGshSHVq",
        "colab_type": "code",
        "colab": {
          "base_uri": "https://localhost:8080/",
          "height": 69
        },
        "outputId": "6724b19f-2a37-4f55-96b1-2147598914cb"
      },
      "source": [
        "print(df[0].value_counts())"
      ],
      "execution_count": null,
      "outputs": [
        {
          "output_type": "stream",
          "text": [
            "1    800000\n",
            "0    800000\n",
            "Name: 0, dtype: int64\n"
          ],
          "name": "stdout"
        }
      ]
    },
    {
      "cell_type": "markdown",
      "metadata": {
        "id": "lVBwLrb5m8h4",
        "colab_type": "text"
      },
      "source": [
        "## Removendo URLs"
      ]
    },
    {
      "cell_type": "code",
      "metadata": {
        "id": "1yJJSCRESYL3",
        "colab_type": "code",
        "colab": {}
      },
      "source": [
        "def remove_url(string):\n",
        "  return re.sub(r\"http[s]?:\\/\\/(?:[a-zA-Z]|[0-9]|[$-_@.&+]|[!*\\(\\),]|(?:%[0-9a-fA-F][0-9a-fA-F]))+\", \"\", string, flags=re.MULTILINE)"
      ],
      "execution_count": null,
      "outputs": []
    },
    {
      "cell_type": "code",
      "metadata": {
        "id": "gyHZId-HXM8s",
        "colab_type": "code",
        "colab": {}
      },
      "source": [
        "df[5] = df[5].apply(remove_url)"
      ],
      "execution_count": null,
      "outputs": []
    },
    {
      "cell_type": "code",
      "metadata": {
        "id": "9dvGvtWVaSFi",
        "colab_type": "code",
        "colab": {
          "base_uri": "https://localhost:8080/",
          "height": 206
        },
        "outputId": "8485b987-69f5-4736-baed-261ac2055923"
      },
      "source": [
        "df.head()"
      ],
      "execution_count": null,
      "outputs": [
        {
          "output_type": "execute_result",
          "data": {
            "text/html": [
              "<div>\n",
              "<style scoped>\n",
              "    .dataframe tbody tr th:only-of-type {\n",
              "        vertical-align: middle;\n",
              "    }\n",
              "\n",
              "    .dataframe tbody tr th {\n",
              "        vertical-align: top;\n",
              "    }\n",
              "\n",
              "    .dataframe thead th {\n",
              "        text-align: right;\n",
              "    }\n",
              "</style>\n",
              "<table border=\"1\" class=\"dataframe\">\n",
              "  <thead>\n",
              "    <tr style=\"text-align: right;\">\n",
              "      <th></th>\n",
              "      <th>0</th>\n",
              "      <th>1</th>\n",
              "      <th>2</th>\n",
              "      <th>3</th>\n",
              "      <th>4</th>\n",
              "      <th>5</th>\n",
              "    </tr>\n",
              "  </thead>\n",
              "  <tbody>\n",
              "    <tr>\n",
              "      <th>0</th>\n",
              "      <td>0</td>\n",
              "      <td>1467810369</td>\n",
              "      <td>Mon Apr 06 22:19:45 PDT 2009</td>\n",
              "      <td>NO_QUERY</td>\n",
              "      <td>_TheSpecialOne_</td>\n",
              "      <td>@switchfoot  - Awww, that's a bummer.  You sho...</td>\n",
              "    </tr>\n",
              "    <tr>\n",
              "      <th>1</th>\n",
              "      <td>0</td>\n",
              "      <td>1467810672</td>\n",
              "      <td>Mon Apr 06 22:19:49 PDT 2009</td>\n",
              "      <td>NO_QUERY</td>\n",
              "      <td>scotthamilton</td>\n",
              "      <td>is upset that he can't update his Facebook by ...</td>\n",
              "    </tr>\n",
              "    <tr>\n",
              "      <th>2</th>\n",
              "      <td>0</td>\n",
              "      <td>1467810917</td>\n",
              "      <td>Mon Apr 06 22:19:53 PDT 2009</td>\n",
              "      <td>NO_QUERY</td>\n",
              "      <td>mattycus</td>\n",
              "      <td>@Kenichan I dived many times for the ball. Man...</td>\n",
              "    </tr>\n",
              "    <tr>\n",
              "      <th>3</th>\n",
              "      <td>0</td>\n",
              "      <td>1467811184</td>\n",
              "      <td>Mon Apr 06 22:19:57 PDT 2009</td>\n",
              "      <td>NO_QUERY</td>\n",
              "      <td>ElleCTF</td>\n",
              "      <td>my whole body feels itchy and like its on fire</td>\n",
              "    </tr>\n",
              "    <tr>\n",
              "      <th>4</th>\n",
              "      <td>0</td>\n",
              "      <td>1467811193</td>\n",
              "      <td>Mon Apr 06 22:19:57 PDT 2009</td>\n",
              "      <td>NO_QUERY</td>\n",
              "      <td>Karoli</td>\n",
              "      <td>@nationwideclass no, it's not behaving at all....</td>\n",
              "    </tr>\n",
              "  </tbody>\n",
              "</table>\n",
              "</div>"
            ],
            "text/plain": [
              "   0  ...                                                  5\n",
              "0  0  ...  @switchfoot  - Awww, that's a bummer.  You sho...\n",
              "1  0  ...  is upset that he can't update his Facebook by ...\n",
              "2  0  ...  @Kenichan I dived many times for the ball. Man...\n",
              "3  0  ...    my whole body feels itchy and like its on fire \n",
              "4  0  ...  @nationwideclass no, it's not behaving at all....\n",
              "\n",
              "[5 rows x 6 columns]"
            ]
          },
          "metadata": {
            "tags": []
          },
          "execution_count": 13
        }
      ]
    },
    {
      "cell_type": "markdown",
      "metadata": {
        "id": "ifeEKm3Hm_yJ",
        "colab_type": "text"
      },
      "source": [
        "## Removendo Usuarios"
      ]
    },
    {
      "cell_type": "code",
      "metadata": {
        "id": "m-kyeZN_aXBs",
        "colab_type": "code",
        "colab": {}
      },
      "source": [
        "def remove_username(string):\n",
        "  return re.sub(r\"(?<=^|(?<=[^a-zA-Z0-9-_\\.]))@([A-Za-z]+[A-Za-z0-9-_]+)\", \"\", string, flags=re.MULTILINE)"
      ],
      "execution_count": null,
      "outputs": []
    },
    {
      "cell_type": "code",
      "metadata": {
        "id": "iCaKQmF3cZyw",
        "colab_type": "code",
        "colab": {}
      },
      "source": [
        "df[5] = df[5].apply(remove_username)"
      ],
      "execution_count": null,
      "outputs": []
    },
    {
      "cell_type": "code",
      "metadata": {
        "id": "HAKtG3BVcfEg",
        "colab_type": "code",
        "colab": {
          "base_uri": "https://localhost:8080/",
          "height": 206
        },
        "outputId": "a28c3a80-9499-426c-bd53-74e155850cf2"
      },
      "source": [
        "df.head()"
      ],
      "execution_count": null,
      "outputs": [
        {
          "output_type": "execute_result",
          "data": {
            "text/html": [
              "<div>\n",
              "<style scoped>\n",
              "    .dataframe tbody tr th:only-of-type {\n",
              "        vertical-align: middle;\n",
              "    }\n",
              "\n",
              "    .dataframe tbody tr th {\n",
              "        vertical-align: top;\n",
              "    }\n",
              "\n",
              "    .dataframe thead th {\n",
              "        text-align: right;\n",
              "    }\n",
              "</style>\n",
              "<table border=\"1\" class=\"dataframe\">\n",
              "  <thead>\n",
              "    <tr style=\"text-align: right;\">\n",
              "      <th></th>\n",
              "      <th>0</th>\n",
              "      <th>1</th>\n",
              "      <th>2</th>\n",
              "      <th>3</th>\n",
              "      <th>4</th>\n",
              "      <th>5</th>\n",
              "    </tr>\n",
              "  </thead>\n",
              "  <tbody>\n",
              "    <tr>\n",
              "      <th>0</th>\n",
              "      <td>0</td>\n",
              "      <td>1467810369</td>\n",
              "      <td>Mon Apr 06 22:19:45 PDT 2009</td>\n",
              "      <td>NO_QUERY</td>\n",
              "      <td>_TheSpecialOne_</td>\n",
              "      <td>- Awww, that's a bummer.  You shoulda got Da...</td>\n",
              "    </tr>\n",
              "    <tr>\n",
              "      <th>1</th>\n",
              "      <td>0</td>\n",
              "      <td>1467810672</td>\n",
              "      <td>Mon Apr 06 22:19:49 PDT 2009</td>\n",
              "      <td>NO_QUERY</td>\n",
              "      <td>scotthamilton</td>\n",
              "      <td>is upset that he can't update his Facebook by ...</td>\n",
              "    </tr>\n",
              "    <tr>\n",
              "      <th>2</th>\n",
              "      <td>0</td>\n",
              "      <td>1467810917</td>\n",
              "      <td>Mon Apr 06 22:19:53 PDT 2009</td>\n",
              "      <td>NO_QUERY</td>\n",
              "      <td>mattycus</td>\n",
              "      <td>I dived many times for the ball. Managed to s...</td>\n",
              "    </tr>\n",
              "    <tr>\n",
              "      <th>3</th>\n",
              "      <td>0</td>\n",
              "      <td>1467811184</td>\n",
              "      <td>Mon Apr 06 22:19:57 PDT 2009</td>\n",
              "      <td>NO_QUERY</td>\n",
              "      <td>ElleCTF</td>\n",
              "      <td>my whole body feels itchy and like its on fire</td>\n",
              "    </tr>\n",
              "    <tr>\n",
              "      <th>4</th>\n",
              "      <td>0</td>\n",
              "      <td>1467811193</td>\n",
              "      <td>Mon Apr 06 22:19:57 PDT 2009</td>\n",
              "      <td>NO_QUERY</td>\n",
              "      <td>Karoli</td>\n",
              "      <td>no, it's not behaving at all. i'm mad. why am...</td>\n",
              "    </tr>\n",
              "  </tbody>\n",
              "</table>\n",
              "</div>"
            ],
            "text/plain": [
              "   0  ...                                                  5\n",
              "0  0  ...    - Awww, that's a bummer.  You shoulda got Da...\n",
              "1  0  ...  is upset that he can't update his Facebook by ...\n",
              "2  0  ...   I dived many times for the ball. Managed to s...\n",
              "3  0  ...    my whole body feels itchy and like its on fire \n",
              "4  0  ...   no, it's not behaving at all. i'm mad. why am...\n",
              "\n",
              "[5 rows x 6 columns]"
            ]
          },
          "metadata": {
            "tags": []
          },
          "execution_count": 16
        }
      ]
    },
    {
      "cell_type": "markdown",
      "metadata": {
        "id": "OzZiQ7mUnD7c",
        "colab_type": "text"
      },
      "source": [
        "## Removendo Hashtags"
      ]
    },
    {
      "cell_type": "code",
      "metadata": {
        "id": "bt7YPEs8cgy9",
        "colab_type": "code",
        "colab": {}
      },
      "source": [
        "def remove_hashtag(string):\n",
        "  return re.sub(r\"(?<=^|(?<=[^a-zA-Z0-9-_\\.]))#([A-Za-z]+[A-Za-z0-9-_]+)\", \"\", string, flags=re.MULTILINE)"
      ],
      "execution_count": null,
      "outputs": []
    },
    {
      "cell_type": "code",
      "metadata": {
        "id": "iVI5SxsFcsNe",
        "colab_type": "code",
        "colab": {
          "base_uri": "https://localhost:8080/",
          "height": 206
        },
        "outputId": "6c0642a5-0ddd-46f8-dc7e-933b5f900119"
      },
      "source": [
        "df[5] = df[5].apply(remove_hashtag)\n",
        "df.head()"
      ],
      "execution_count": null,
      "outputs": [
        {
          "output_type": "execute_result",
          "data": {
            "text/html": [
              "<div>\n",
              "<style scoped>\n",
              "    .dataframe tbody tr th:only-of-type {\n",
              "        vertical-align: middle;\n",
              "    }\n",
              "\n",
              "    .dataframe tbody tr th {\n",
              "        vertical-align: top;\n",
              "    }\n",
              "\n",
              "    .dataframe thead th {\n",
              "        text-align: right;\n",
              "    }\n",
              "</style>\n",
              "<table border=\"1\" class=\"dataframe\">\n",
              "  <thead>\n",
              "    <tr style=\"text-align: right;\">\n",
              "      <th></th>\n",
              "      <th>0</th>\n",
              "      <th>1</th>\n",
              "      <th>2</th>\n",
              "      <th>3</th>\n",
              "      <th>4</th>\n",
              "      <th>5</th>\n",
              "    </tr>\n",
              "  </thead>\n",
              "  <tbody>\n",
              "    <tr>\n",
              "      <th>0</th>\n",
              "      <td>0</td>\n",
              "      <td>1467810369</td>\n",
              "      <td>Mon Apr 06 22:19:45 PDT 2009</td>\n",
              "      <td>NO_QUERY</td>\n",
              "      <td>_TheSpecialOne_</td>\n",
              "      <td>- Awww, that's a bummer.  You shoulda got Da...</td>\n",
              "    </tr>\n",
              "    <tr>\n",
              "      <th>1</th>\n",
              "      <td>0</td>\n",
              "      <td>1467810672</td>\n",
              "      <td>Mon Apr 06 22:19:49 PDT 2009</td>\n",
              "      <td>NO_QUERY</td>\n",
              "      <td>scotthamilton</td>\n",
              "      <td>is upset that he can't update his Facebook by ...</td>\n",
              "    </tr>\n",
              "    <tr>\n",
              "      <th>2</th>\n",
              "      <td>0</td>\n",
              "      <td>1467810917</td>\n",
              "      <td>Mon Apr 06 22:19:53 PDT 2009</td>\n",
              "      <td>NO_QUERY</td>\n",
              "      <td>mattycus</td>\n",
              "      <td>I dived many times for the ball. Managed to s...</td>\n",
              "    </tr>\n",
              "    <tr>\n",
              "      <th>3</th>\n",
              "      <td>0</td>\n",
              "      <td>1467811184</td>\n",
              "      <td>Mon Apr 06 22:19:57 PDT 2009</td>\n",
              "      <td>NO_QUERY</td>\n",
              "      <td>ElleCTF</td>\n",
              "      <td>my whole body feels itchy and like its on fire</td>\n",
              "    </tr>\n",
              "    <tr>\n",
              "      <th>4</th>\n",
              "      <td>0</td>\n",
              "      <td>1467811193</td>\n",
              "      <td>Mon Apr 06 22:19:57 PDT 2009</td>\n",
              "      <td>NO_QUERY</td>\n",
              "      <td>Karoli</td>\n",
              "      <td>no, it's not behaving at all. i'm mad. why am...</td>\n",
              "    </tr>\n",
              "  </tbody>\n",
              "</table>\n",
              "</div>"
            ],
            "text/plain": [
              "   0  ...                                                  5\n",
              "0  0  ...    - Awww, that's a bummer.  You shoulda got Da...\n",
              "1  0  ...  is upset that he can't update his Facebook by ...\n",
              "2  0  ...   I dived many times for the ball. Managed to s...\n",
              "3  0  ...    my whole body feels itchy and like its on fire \n",
              "4  0  ...   no, it's not behaving at all. i'm mad. why am...\n",
              "\n",
              "[5 rows x 6 columns]"
            ]
          },
          "metadata": {
            "tags": []
          },
          "execution_count": 18
        }
      ]
    },
    {
      "cell_type": "markdown",
      "metadata": {
        "id": "7uMTs6aSnHM3",
        "colab_type": "text"
      },
      "source": [
        "## Removendo marcador de retweet"
      ]
    },
    {
      "cell_type": "code",
      "metadata": {
        "id": "m2vILxxzcxcd",
        "colab_type": "code",
        "colab": {}
      },
      "source": [
        "def remove_rt(string):\n",
        "  return re.sub(r\"\\b(RT|rt)\\b\", \"\", string, flags=re.MULTILINE)"
      ],
      "execution_count": null,
      "outputs": []
    },
    {
      "cell_type": "code",
      "metadata": {
        "id": "oV_2DTlHiQK-",
        "colab_type": "code",
        "colab": {
          "base_uri": "https://localhost:8080/",
          "height": 206
        },
        "outputId": "6752c327-24c2-4c43-c695-58999c8c2f2b"
      },
      "source": [
        "df[5] = df[5].apply(remove_rt)\n",
        "df.head()"
      ],
      "execution_count": null,
      "outputs": [
        {
          "output_type": "execute_result",
          "data": {
            "text/html": [
              "<div>\n",
              "<style scoped>\n",
              "    .dataframe tbody tr th:only-of-type {\n",
              "        vertical-align: middle;\n",
              "    }\n",
              "\n",
              "    .dataframe tbody tr th {\n",
              "        vertical-align: top;\n",
              "    }\n",
              "\n",
              "    .dataframe thead th {\n",
              "        text-align: right;\n",
              "    }\n",
              "</style>\n",
              "<table border=\"1\" class=\"dataframe\">\n",
              "  <thead>\n",
              "    <tr style=\"text-align: right;\">\n",
              "      <th></th>\n",
              "      <th>0</th>\n",
              "      <th>1</th>\n",
              "      <th>2</th>\n",
              "      <th>3</th>\n",
              "      <th>4</th>\n",
              "      <th>5</th>\n",
              "    </tr>\n",
              "  </thead>\n",
              "  <tbody>\n",
              "    <tr>\n",
              "      <th>0</th>\n",
              "      <td>0</td>\n",
              "      <td>1467810369</td>\n",
              "      <td>Mon Apr 06 22:19:45 PDT 2009</td>\n",
              "      <td>NO_QUERY</td>\n",
              "      <td>_TheSpecialOne_</td>\n",
              "      <td>- Awww, that's a bummer.  You shoulda got Da...</td>\n",
              "    </tr>\n",
              "    <tr>\n",
              "      <th>1</th>\n",
              "      <td>0</td>\n",
              "      <td>1467810672</td>\n",
              "      <td>Mon Apr 06 22:19:49 PDT 2009</td>\n",
              "      <td>NO_QUERY</td>\n",
              "      <td>scotthamilton</td>\n",
              "      <td>is upset that he can't update his Facebook by ...</td>\n",
              "    </tr>\n",
              "    <tr>\n",
              "      <th>2</th>\n",
              "      <td>0</td>\n",
              "      <td>1467810917</td>\n",
              "      <td>Mon Apr 06 22:19:53 PDT 2009</td>\n",
              "      <td>NO_QUERY</td>\n",
              "      <td>mattycus</td>\n",
              "      <td>I dived many times for the ball. Managed to s...</td>\n",
              "    </tr>\n",
              "    <tr>\n",
              "      <th>3</th>\n",
              "      <td>0</td>\n",
              "      <td>1467811184</td>\n",
              "      <td>Mon Apr 06 22:19:57 PDT 2009</td>\n",
              "      <td>NO_QUERY</td>\n",
              "      <td>ElleCTF</td>\n",
              "      <td>my whole body feels itchy and like its on fire</td>\n",
              "    </tr>\n",
              "    <tr>\n",
              "      <th>4</th>\n",
              "      <td>0</td>\n",
              "      <td>1467811193</td>\n",
              "      <td>Mon Apr 06 22:19:57 PDT 2009</td>\n",
              "      <td>NO_QUERY</td>\n",
              "      <td>Karoli</td>\n",
              "      <td>no, it's not behaving at all. i'm mad. why am...</td>\n",
              "    </tr>\n",
              "  </tbody>\n",
              "</table>\n",
              "</div>"
            ],
            "text/plain": [
              "   0  ...                                                  5\n",
              "0  0  ...    - Awww, that's a bummer.  You shoulda got Da...\n",
              "1  0  ...  is upset that he can't update his Facebook by ...\n",
              "2  0  ...   I dived many times for the ball. Managed to s...\n",
              "3  0  ...    my whole body feels itchy and like its on fire \n",
              "4  0  ...   no, it's not behaving at all. i'm mad. why am...\n",
              "\n",
              "[5 rows x 6 columns]"
            ]
          },
          "metadata": {
            "tags": []
          },
          "execution_count": 20
        }
      ]
    },
    {
      "cell_type": "markdown",
      "metadata": {
        "id": "hAcH_z2GnMui",
        "colab_type": "text"
      },
      "source": [
        "## Removendo Emojis"
      ]
    },
    {
      "cell_type": "code",
      "metadata": {
        "id": "ZR46WBcNiXMB",
        "colab_type": "code",
        "colab": {}
      },
      "source": [
        "def remove_emoji(string):\n",
        "    emoji_pattern = re.compile(\"[\"\n",
        "                           u\"\\U0001F600-\\U0001F64F\"  # emoticons\n",
        "                           u\"\\U0001F300-\\U0001F5FF\"  # symbols & pictographs\n",
        "                           u\"\\U0001F680-\\U0001F6FF\"  # transport & map symbols\n",
        "                           u\"\\U0001F1E0-\\U0001F1FF\"  # flags (iOS)\n",
        "                           u\"\\U00002702-\\U000027B0\"\n",
        "                           u\"\\U000024C2-\\U0001F251\"\n",
        "                           \"]+\", flags=re.UNICODE)\n",
        "    return emoji_pattern.sub(r'', string)"
      ],
      "execution_count": null,
      "outputs": []
    },
    {
      "cell_type": "code",
      "metadata": {
        "id": "jG9KDSE3ixkn",
        "colab_type": "code",
        "colab": {}
      },
      "source": [
        "df[5] = df[5].apply(remove_emoji)"
      ],
      "execution_count": null,
      "outputs": []
    },
    {
      "cell_type": "markdown",
      "metadata": {
        "id": "XNoFV5ucnTi9",
        "colab_type": "text"
      },
      "source": [
        "## Tokenizando a mensagem"
      ]
    },
    {
      "cell_type": "code",
      "metadata": {
        "id": "Onn4ORCdi00i",
        "colab_type": "code",
        "colab": {}
      },
      "source": [
        "df['5_token'] = df[5].apply(word_tokenize)"
      ],
      "execution_count": null,
      "outputs": []
    },
    {
      "cell_type": "code",
      "metadata": {
        "id": "LpqjSNXdjqLh",
        "colab_type": "code",
        "colab": {
          "base_uri": "https://localhost:8080/",
          "height": 206
        },
        "outputId": "b3b919c0-0611-4adb-c81f-3e6777f2bead"
      },
      "source": [
        "df.head()"
      ],
      "execution_count": null,
      "outputs": [
        {
          "output_type": "execute_result",
          "data": {
            "text/html": [
              "<div>\n",
              "<style scoped>\n",
              "    .dataframe tbody tr th:only-of-type {\n",
              "        vertical-align: middle;\n",
              "    }\n",
              "\n",
              "    .dataframe tbody tr th {\n",
              "        vertical-align: top;\n",
              "    }\n",
              "\n",
              "    .dataframe thead th {\n",
              "        text-align: right;\n",
              "    }\n",
              "</style>\n",
              "<table border=\"1\" class=\"dataframe\">\n",
              "  <thead>\n",
              "    <tr style=\"text-align: right;\">\n",
              "      <th></th>\n",
              "      <th>0</th>\n",
              "      <th>1</th>\n",
              "      <th>2</th>\n",
              "      <th>3</th>\n",
              "      <th>4</th>\n",
              "      <th>5</th>\n",
              "      <th>5_token</th>\n",
              "    </tr>\n",
              "  </thead>\n",
              "  <tbody>\n",
              "    <tr>\n",
              "      <th>0</th>\n",
              "      <td>0</td>\n",
              "      <td>1467810369</td>\n",
              "      <td>Mon Apr 06 22:19:45 PDT 2009</td>\n",
              "      <td>NO_QUERY</td>\n",
              "      <td>_TheSpecialOne_</td>\n",
              "      <td>- Awww, that's a bummer.  You shoulda got Da...</td>\n",
              "      <td>[-, Awww, ,, that, 's, a, bummer, ., You, shou...</td>\n",
              "    </tr>\n",
              "    <tr>\n",
              "      <th>1</th>\n",
              "      <td>0</td>\n",
              "      <td>1467810672</td>\n",
              "      <td>Mon Apr 06 22:19:49 PDT 2009</td>\n",
              "      <td>NO_QUERY</td>\n",
              "      <td>scotthamilton</td>\n",
              "      <td>is upset that he can't update his Facebook by ...</td>\n",
              "      <td>[is, upset, that, he, ca, n't, update, his, Fa...</td>\n",
              "    </tr>\n",
              "    <tr>\n",
              "      <th>2</th>\n",
              "      <td>0</td>\n",
              "      <td>1467810917</td>\n",
              "      <td>Mon Apr 06 22:19:53 PDT 2009</td>\n",
              "      <td>NO_QUERY</td>\n",
              "      <td>mattycus</td>\n",
              "      <td>I dived many times for the ball. Managed to s...</td>\n",
              "      <td>[I, dived, many, times, for, the, ball, ., Man...</td>\n",
              "    </tr>\n",
              "    <tr>\n",
              "      <th>3</th>\n",
              "      <td>0</td>\n",
              "      <td>1467811184</td>\n",
              "      <td>Mon Apr 06 22:19:57 PDT 2009</td>\n",
              "      <td>NO_QUERY</td>\n",
              "      <td>ElleCTF</td>\n",
              "      <td>my whole body feels itchy and like its on fire</td>\n",
              "      <td>[my, whole, body, feels, itchy, and, like, its...</td>\n",
              "    </tr>\n",
              "    <tr>\n",
              "      <th>4</th>\n",
              "      <td>0</td>\n",
              "      <td>1467811193</td>\n",
              "      <td>Mon Apr 06 22:19:57 PDT 2009</td>\n",
              "      <td>NO_QUERY</td>\n",
              "      <td>Karoli</td>\n",
              "      <td>no, it's not behaving at all. i'm mad. why am...</td>\n",
              "      <td>[no, ,, it, 's, not, behaving, at, all, ., i, ...</td>\n",
              "    </tr>\n",
              "  </tbody>\n",
              "</table>\n",
              "</div>"
            ],
            "text/plain": [
              "   0  ...                                            5_token\n",
              "0  0  ...  [-, Awww, ,, that, 's, a, bummer, ., You, shou...\n",
              "1  0  ...  [is, upset, that, he, ca, n't, update, his, Fa...\n",
              "2  0  ...  [I, dived, many, times, for, the, ball, ., Man...\n",
              "3  0  ...  [my, whole, body, feels, itchy, and, like, its...\n",
              "4  0  ...  [no, ,, it, 's, not, behaving, at, all, ., i, ...\n",
              "\n",
              "[5 rows x 7 columns]"
            ]
          },
          "metadata": {
            "tags": []
          },
          "execution_count": 24
        }
      ]
    },
    {
      "cell_type": "markdown",
      "metadata": {
        "id": "ZmInq2pDnW1J",
        "colab_type": "text"
      },
      "source": [
        "## Removendo Acentos"
      ]
    },
    {
      "cell_type": "code",
      "metadata": {
        "id": "O5tqnuXnjsXY",
        "colab_type": "code",
        "colab": {}
      },
      "source": [
        "def remove_acento( frase_tokenizada ):\n",
        "    frase = []\n",
        "    for palavra in frase_tokenizada:\n",
        "        palavra = palavra.replace('á','a')\n",
        "        palavra = palavra.replace('é','e')\n",
        "        palavra = palavra.replace('í','i')\n",
        "        palavra = palavra.replace('ó','o')\n",
        "        palavra = palavra.replace('ú','u')\n",
        "        palavra = palavra.replace('ã','a')\n",
        "        palavra = palavra.replace('õ','o')\n",
        "        palavra = palavra.replace('ç','c')\n",
        "        palavra = palavra.replace('â','a')\n",
        "        palavra = palavra.replace('ê','e')\n",
        "        palavra = palavra.replace('î','i')\n",
        "        palavra = palavra.replace('ô','o')\n",
        "        palavra = palavra.replace('û','u')\n",
        "        palavra = palavra.replace('à','a')\n",
        "        palavra = palavra.replace('è','e')\n",
        "        palavra = palavra.replace('ì','i')\n",
        "        palavra = palavra.replace('ò','o')\n",
        "        palavra = palavra.replace('ù','u')\n",
        "        frase.append( palavra )\n",
        "    return frase"
      ],
      "execution_count": null,
      "outputs": []
    },
    {
      "cell_type": "code",
      "metadata": {
        "id": "fqnNYJynjwCD",
        "colab_type": "code",
        "colab": {}
      },
      "source": [
        "df['5_token'] = df['5_token'].apply(remove_acento)"
      ],
      "execution_count": null,
      "outputs": []
    },
    {
      "cell_type": "markdown",
      "metadata": {
        "id": "BOORdmsVnboY",
        "colab_type": "text"
      },
      "source": [
        "## Removendo mensagens não alpha"
      ]
    },
    {
      "cell_type": "code",
      "metadata": {
        "id": "MtWULmhTj4YZ",
        "colab_type": "code",
        "colab": {}
      },
      "source": [
        "def no_alphas( frase_tokenizada ):\n",
        "    return [palavra for palavra in frase_tokenizada if (palavra.isalpha())]"
      ],
      "execution_count": null,
      "outputs": []
    },
    {
      "cell_type": "code",
      "metadata": {
        "id": "of3xWpukj8Gt",
        "colab_type": "code",
        "colab": {}
      },
      "source": [
        "df['5_token'] = df['5_token'].apply(no_alphas)"
      ],
      "execution_count": null,
      "outputs": []
    },
    {
      "cell_type": "code",
      "metadata": {
        "id": "0fY-OSLSkCHp",
        "colab_type": "code",
        "colab": {
          "base_uri": "https://localhost:8080/",
          "height": 206
        },
        "outputId": "99fa57ab-e03d-41e4-a90a-b16a3c956c75"
      },
      "source": [
        "df.head()"
      ],
      "execution_count": null,
      "outputs": [
        {
          "output_type": "execute_result",
          "data": {
            "text/html": [
              "<div>\n",
              "<style scoped>\n",
              "    .dataframe tbody tr th:only-of-type {\n",
              "        vertical-align: middle;\n",
              "    }\n",
              "\n",
              "    .dataframe tbody tr th {\n",
              "        vertical-align: top;\n",
              "    }\n",
              "\n",
              "    .dataframe thead th {\n",
              "        text-align: right;\n",
              "    }\n",
              "</style>\n",
              "<table border=\"1\" class=\"dataframe\">\n",
              "  <thead>\n",
              "    <tr style=\"text-align: right;\">\n",
              "      <th></th>\n",
              "      <th>0</th>\n",
              "      <th>1</th>\n",
              "      <th>2</th>\n",
              "      <th>3</th>\n",
              "      <th>4</th>\n",
              "      <th>5</th>\n",
              "      <th>5_token</th>\n",
              "    </tr>\n",
              "  </thead>\n",
              "  <tbody>\n",
              "    <tr>\n",
              "      <th>0</th>\n",
              "      <td>0</td>\n",
              "      <td>1467810369</td>\n",
              "      <td>Mon Apr 06 22:19:45 PDT 2009</td>\n",
              "      <td>NO_QUERY</td>\n",
              "      <td>_TheSpecialOne_</td>\n",
              "      <td>- Awww, that's a bummer.  You shoulda got Da...</td>\n",
              "      <td>[Awww, that, a, bummer, You, shoulda, got, Dav...</td>\n",
              "    </tr>\n",
              "    <tr>\n",
              "      <th>1</th>\n",
              "      <td>0</td>\n",
              "      <td>1467810672</td>\n",
              "      <td>Mon Apr 06 22:19:49 PDT 2009</td>\n",
              "      <td>NO_QUERY</td>\n",
              "      <td>scotthamilton</td>\n",
              "      <td>is upset that he can't update his Facebook by ...</td>\n",
              "      <td>[is, upset, that, he, ca, update, his, Faceboo...</td>\n",
              "    </tr>\n",
              "    <tr>\n",
              "      <th>2</th>\n",
              "      <td>0</td>\n",
              "      <td>1467810917</td>\n",
              "      <td>Mon Apr 06 22:19:53 PDT 2009</td>\n",
              "      <td>NO_QUERY</td>\n",
              "      <td>mattycus</td>\n",
              "      <td>I dived many times for the ball. Managed to s...</td>\n",
              "      <td>[I, dived, many, times, for, the, ball, Manage...</td>\n",
              "    </tr>\n",
              "    <tr>\n",
              "      <th>3</th>\n",
              "      <td>0</td>\n",
              "      <td>1467811184</td>\n",
              "      <td>Mon Apr 06 22:19:57 PDT 2009</td>\n",
              "      <td>NO_QUERY</td>\n",
              "      <td>ElleCTF</td>\n",
              "      <td>my whole body feels itchy and like its on fire</td>\n",
              "      <td>[my, whole, body, feels, itchy, and, like, its...</td>\n",
              "    </tr>\n",
              "    <tr>\n",
              "      <th>4</th>\n",
              "      <td>0</td>\n",
              "      <td>1467811193</td>\n",
              "      <td>Mon Apr 06 22:19:57 PDT 2009</td>\n",
              "      <td>NO_QUERY</td>\n",
              "      <td>Karoli</td>\n",
              "      <td>no, it's not behaving at all. i'm mad. why am...</td>\n",
              "      <td>[no, it, not, behaving, at, all, i, mad, why, ...</td>\n",
              "    </tr>\n",
              "  </tbody>\n",
              "</table>\n",
              "</div>"
            ],
            "text/plain": [
              "   0  ...                                            5_token\n",
              "0  0  ...  [Awww, that, a, bummer, You, shoulda, got, Dav...\n",
              "1  0  ...  [is, upset, that, he, ca, update, his, Faceboo...\n",
              "2  0  ...  [I, dived, many, times, for, the, ball, Manage...\n",
              "3  0  ...  [my, whole, body, feels, itchy, and, like, its...\n",
              "4  0  ...  [no, it, not, behaving, at, all, i, mad, why, ...\n",
              "\n",
              "[5 rows x 7 columns]"
            ]
          },
          "metadata": {
            "tags": []
          },
          "execution_count": 29
        }
      ]
    },
    {
      "cell_type": "markdown",
      "metadata": {
        "id": "UkR2e0shnjmg",
        "colab_type": "text"
      },
      "source": [
        "## Removendo Stop Words"
      ]
    },
    {
      "cell_type": "code",
      "metadata": {
        "id": "ykTMib2mkDr0",
        "colab_type": "code",
        "colab": {}
      },
      "source": [
        "stopWords = stopwords.words('english')\n",
        "stw = list( set( stopWords + list(punctuation) ) )\n",
        "def remove_stops( frase_tokenizada, stopwords_pt ):\n",
        "    w_token_1_sem_stopwords = [palavra for palavra in frase_tokenizada if palavra not in stopwords_pt]\n",
        "    return w_token_1_sem_stopwords"
      ],
      "execution_count": null,
      "outputs": []
    },
    {
      "cell_type": "code",
      "metadata": {
        "id": "dqhli4VslcIB",
        "colab_type": "code",
        "colab": {}
      },
      "source": [
        "df['5_token'] = df['5_token'].apply(remove_stops, stopwords_pt = stw)"
      ],
      "execution_count": null,
      "outputs": []
    },
    {
      "cell_type": "code",
      "metadata": {
        "id": "Yo0gzC9nmWIM",
        "colab_type": "code",
        "colab": {
          "base_uri": "https://localhost:8080/",
          "height": 206
        },
        "outputId": "aa8aef6f-18fb-4a20-a481-4f5750065c45"
      },
      "source": [
        "df.head()"
      ],
      "execution_count": null,
      "outputs": [
        {
          "output_type": "execute_result",
          "data": {
            "text/html": [
              "<div>\n",
              "<style scoped>\n",
              "    .dataframe tbody tr th:only-of-type {\n",
              "        vertical-align: middle;\n",
              "    }\n",
              "\n",
              "    .dataframe tbody tr th {\n",
              "        vertical-align: top;\n",
              "    }\n",
              "\n",
              "    .dataframe thead th {\n",
              "        text-align: right;\n",
              "    }\n",
              "</style>\n",
              "<table border=\"1\" class=\"dataframe\">\n",
              "  <thead>\n",
              "    <tr style=\"text-align: right;\">\n",
              "      <th></th>\n",
              "      <th>0</th>\n",
              "      <th>1</th>\n",
              "      <th>2</th>\n",
              "      <th>3</th>\n",
              "      <th>4</th>\n",
              "      <th>5</th>\n",
              "      <th>5_token</th>\n",
              "    </tr>\n",
              "  </thead>\n",
              "  <tbody>\n",
              "    <tr>\n",
              "      <th>0</th>\n",
              "      <td>0</td>\n",
              "      <td>1467810369</td>\n",
              "      <td>Mon Apr 06 22:19:45 PDT 2009</td>\n",
              "      <td>NO_QUERY</td>\n",
              "      <td>_TheSpecialOne_</td>\n",
              "      <td>- Awww, that's a bummer.  You shoulda got Da...</td>\n",
              "      <td>[Awww, bummer, You, shoulda, got, David, Carr,...</td>\n",
              "    </tr>\n",
              "    <tr>\n",
              "      <th>1</th>\n",
              "      <td>0</td>\n",
              "      <td>1467810672</td>\n",
              "      <td>Mon Apr 06 22:19:49 PDT 2009</td>\n",
              "      <td>NO_QUERY</td>\n",
              "      <td>scotthamilton</td>\n",
              "      <td>is upset that he can't update his Facebook by ...</td>\n",
              "      <td>[upset, ca, update, Facebook, texting, might, ...</td>\n",
              "    </tr>\n",
              "    <tr>\n",
              "      <th>2</th>\n",
              "      <td>0</td>\n",
              "      <td>1467810917</td>\n",
              "      <td>Mon Apr 06 22:19:53 PDT 2009</td>\n",
              "      <td>NO_QUERY</td>\n",
              "      <td>mattycus</td>\n",
              "      <td>I dived many times for the ball. Managed to s...</td>\n",
              "      <td>[I, dived, many, times, ball, Managed, save, T...</td>\n",
              "    </tr>\n",
              "    <tr>\n",
              "      <th>3</th>\n",
              "      <td>0</td>\n",
              "      <td>1467811184</td>\n",
              "      <td>Mon Apr 06 22:19:57 PDT 2009</td>\n",
              "      <td>NO_QUERY</td>\n",
              "      <td>ElleCTF</td>\n",
              "      <td>my whole body feels itchy and like its on fire</td>\n",
              "      <td>[whole, body, feels, itchy, like, fire]</td>\n",
              "    </tr>\n",
              "    <tr>\n",
              "      <th>4</th>\n",
              "      <td>0</td>\n",
              "      <td>1467811193</td>\n",
              "      <td>Mon Apr 06 22:19:57 PDT 2009</td>\n",
              "      <td>NO_QUERY</td>\n",
              "      <td>Karoli</td>\n",
              "      <td>no, it's not behaving at all. i'm mad. why am...</td>\n",
              "      <td>[behaving, mad, I, ca, see]</td>\n",
              "    </tr>\n",
              "  </tbody>\n",
              "</table>\n",
              "</div>"
            ],
            "text/plain": [
              "   0  ...                                            5_token\n",
              "0  0  ...  [Awww, bummer, You, shoulda, got, David, Carr,...\n",
              "1  0  ...  [upset, ca, update, Facebook, texting, might, ...\n",
              "2  0  ...  [I, dived, many, times, ball, Managed, save, T...\n",
              "3  0  ...            [whole, body, feels, itchy, like, fire]\n",
              "4  0  ...                        [behaving, mad, I, ca, see]\n",
              "\n",
              "[5 rows x 7 columns]"
            ]
          },
          "metadata": {
            "tags": []
          },
          "execution_count": 34
        }
      ]
    },
    {
      "cell_type": "markdown",
      "metadata": {
        "id": "b35TeO4wnmvV",
        "colab_type": "text"
      },
      "source": [
        "## Lemmatizando a mensagem"
      ]
    },
    {
      "cell_type": "code",
      "metadata": {
        "id": "-1geDjGTmbtU",
        "colab_type": "code",
        "colab": {}
      },
      "source": [
        "def get_wordnet_pos(word):\n",
        "    tag = nltk.pos_tag([word])[0][1][0].upper()\n",
        "    tag_dict = {\"J\": wordnet.ADJ,\n",
        "                \"N\": wordnet.NOUN,\n",
        "                \"V\": wordnet.VERB,\n",
        "                \"R\": wordnet.ADV}\n",
        "\n",
        "    return tag_dict.get(tag, wordnet.NOUN)"
      ],
      "execution_count": null,
      "outputs": []
    },
    {
      "cell_type": "code",
      "metadata": {
        "id": "LE5U-cuOocwj",
        "colab_type": "code",
        "colab": {}
      },
      "source": [
        "lemmatizer = WordNetLemmatizer()"
      ],
      "execution_count": null,
      "outputs": []
    },
    {
      "cell_type": "code",
      "metadata": {
        "id": "VdLL3X_GjtSq",
        "colab_type": "code",
        "colab": {}
      },
      "source": [
        "def lemm(frase_tokenizada):\n",
        "  frase_lemm = [lemmatizer.lemmatize(w, get_wordnet_pos(w)) for w in frase_tokenizada]\n",
        "  return frase_lemm"
      ],
      "execution_count": null,
      "outputs": []
    },
    {
      "cell_type": "code",
      "metadata": {
        "id": "em2M1ThqkIDk",
        "colab_type": "code",
        "colab": {}
      },
      "source": [
        "df['5_token'] = df['5_token'].apply(lemm)"
      ],
      "execution_count": null,
      "outputs": []
    },
    {
      "cell_type": "markdown",
      "metadata": {
        "id": "b2M23tV0nplY",
        "colab_type": "text"
      },
      "source": [
        "## Reconstruindo a mensagem tokenizada"
      ]
    },
    {
      "cell_type": "code",
      "metadata": {
        "id": "4i9aWSmFk4ZF",
        "colab_type": "code",
        "colab": {}
      },
      "source": [
        "def reconstroi(frase_tokenizada):\n",
        "  return ' '.join(frase_tokenizada)"
      ],
      "execution_count": null,
      "outputs": []
    },
    {
      "cell_type": "code",
      "metadata": {
        "id": "RbUU_kUWlnJv",
        "colab_type": "code",
        "colab": {}
      },
      "source": [
        "df[6] = df['5_token'].apply(reconstroi)"
      ],
      "execution_count": null,
      "outputs": []
    },
    {
      "cell_type": "code",
      "metadata": {
        "id": "BB53b8Eelvkg",
        "colab_type": "code",
        "colab": {
          "base_uri": "https://localhost:8080/",
          "height": 293
        },
        "outputId": "300b5ce1-09a7-4b0e-eeb1-bb11b60c1d57"
      },
      "source": [
        "df.head()"
      ],
      "execution_count": null,
      "outputs": [
        {
          "output_type": "execute_result",
          "data": {
            "text/html": [
              "<div>\n",
              "<style scoped>\n",
              "    .dataframe tbody tr th:only-of-type {\n",
              "        vertical-align: middle;\n",
              "    }\n",
              "\n",
              "    .dataframe tbody tr th {\n",
              "        vertical-align: top;\n",
              "    }\n",
              "\n",
              "    .dataframe thead th {\n",
              "        text-align: right;\n",
              "    }\n",
              "</style>\n",
              "<table border=\"1\" class=\"dataframe\">\n",
              "  <thead>\n",
              "    <tr style=\"text-align: right;\">\n",
              "      <th></th>\n",
              "      <th>0</th>\n",
              "      <th>1</th>\n",
              "      <th>2</th>\n",
              "      <th>3</th>\n",
              "      <th>4</th>\n",
              "      <th>5</th>\n",
              "      <th>5_token</th>\n",
              "      <th>6</th>\n",
              "    </tr>\n",
              "  </thead>\n",
              "  <tbody>\n",
              "    <tr>\n",
              "      <th>0</th>\n",
              "      <td>0</td>\n",
              "      <td>1467810369</td>\n",
              "      <td>Mon Apr 06 22:19:45 PDT 2009</td>\n",
              "      <td>NO_QUERY</td>\n",
              "      <td>_TheSpecialOne_</td>\n",
              "      <td>- Awww, that's a bummer.  You shoulda got Da...</td>\n",
              "      <td>[Awww, bummer, You, shoulda, get, David, Carr,...</td>\n",
              "      <td>Awww bummer You shoulda get David Carr Third D...</td>\n",
              "    </tr>\n",
              "    <tr>\n",
              "      <th>1</th>\n",
              "      <td>0</td>\n",
              "      <td>1467810672</td>\n",
              "      <td>Mon Apr 06 22:19:49 PDT 2009</td>\n",
              "      <td>NO_QUERY</td>\n",
              "      <td>scotthamilton</td>\n",
              "      <td>is upset that he can't update his Facebook by ...</td>\n",
              "      <td>[upset, ca, update, Facebook, texting, might, ...</td>\n",
              "      <td>upset ca update Facebook texting might cry res...</td>\n",
              "    </tr>\n",
              "    <tr>\n",
              "      <th>2</th>\n",
              "      <td>0</td>\n",
              "      <td>1467810917</td>\n",
              "      <td>Mon Apr 06 22:19:53 PDT 2009</td>\n",
              "      <td>NO_QUERY</td>\n",
              "      <td>mattycus</td>\n",
              "      <td>I dived many times for the ball. Managed to s...</td>\n",
              "      <td>[I, dive, many, time, ball, Managed, save, The...</td>\n",
              "      <td>I dive many time ball Managed save The rest go...</td>\n",
              "    </tr>\n",
              "    <tr>\n",
              "      <th>3</th>\n",
              "      <td>0</td>\n",
              "      <td>1467811184</td>\n",
              "      <td>Mon Apr 06 22:19:57 PDT 2009</td>\n",
              "      <td>NO_QUERY</td>\n",
              "      <td>ElleCTF</td>\n",
              "      <td>my whole body feels itchy and like its on fire</td>\n",
              "      <td>[whole, body, feel, itchy, like, fire]</td>\n",
              "      <td>whole body feel itchy like fire</td>\n",
              "    </tr>\n",
              "    <tr>\n",
              "      <th>4</th>\n",
              "      <td>0</td>\n",
              "      <td>1467811193</td>\n",
              "      <td>Mon Apr 06 22:19:57 PDT 2009</td>\n",
              "      <td>NO_QUERY</td>\n",
              "      <td>Karoli</td>\n",
              "      <td>no, it's not behaving at all. i'm mad. why am...</td>\n",
              "      <td>[behaving, mad, I, ca, see]</td>\n",
              "      <td>behaving mad I ca see</td>\n",
              "    </tr>\n",
              "  </tbody>\n",
              "</table>\n",
              "</div>"
            ],
            "text/plain": [
              "   0  ...                                                  6\n",
              "0  0  ...  Awww bummer You shoulda get David Carr Third D...\n",
              "1  0  ...  upset ca update Facebook texting might cry res...\n",
              "2  0  ...  I dive many time ball Managed save The rest go...\n",
              "3  0  ...                    whole body feel itchy like fire\n",
              "4  0  ...                              behaving mad I ca see\n",
              "\n",
              "[5 rows x 8 columns]"
            ]
          },
          "metadata": {
            "tags": []
          },
          "execution_count": 52
        }
      ]
    },
    {
      "cell_type": "markdown",
      "metadata": {
        "id": "keGG_6TZ1oBj",
        "colab_type": "text"
      },
      "source": [
        "# Treinamento"
      ]
    },
    {
      "cell_type": "code",
      "metadata": {
        "id": "ZvU4E0KYlxGi",
        "colab_type": "code",
        "colab": {}
      },
      "source": [
        "x = df[6].values\n",
        "y = df[0]"
      ],
      "execution_count": null,
      "outputs": []
    },
    {
      "cell_type": "code",
      "metadata": {
        "id": "3xN4MeDiwv-o",
        "colab_type": "code",
        "colab": {
          "base_uri": "https://localhost:8080/",
          "height": 52
        },
        "outputId": "804089ad-4f6d-43da-e27a-259749f76ae8"
      },
      "source": [
        "x_treino, x_test, y_treino, y_test  = train_test_split( x, y, test_size = 0.25 )\n",
        "\n",
        "print(x_treino.shape)\n",
        "print(x_test.shape)"
      ],
      "execution_count": null,
      "outputs": [
        {
          "output_type": "stream",
          "text": [
            "(1200000,)\n",
            "(400000,)\n"
          ],
          "name": "stdout"
        }
      ]
    },
    {
      "cell_type": "markdown",
      "metadata": {
        "id": "6YNE64KC1xfy",
        "colab_type": "text"
      },
      "source": [
        "## Bag of Words"
      ]
    },
    {
      "cell_type": "code",
      "metadata": {
        "id": "y6D9e4L7wz2_",
        "colab_type": "code",
        "colab": {
          "base_uri": "https://localhost:8080/",
          "height": 121
        },
        "outputId": "a4f59bd5-0863-452b-a9da-91124b166660"
      },
      "source": [
        "vect = CountVectorizer(analyzer='word')\n",
        "vect.fit(x_treino)"
      ],
      "execution_count": null,
      "outputs": [
        {
          "output_type": "execute_result",
          "data": {
            "text/plain": [
              "CountVectorizer(analyzer='word', binary=False, decode_error='strict',\n",
              "                dtype=<class 'numpy.int64'>, encoding='utf-8', input='content',\n",
              "                lowercase=True, max_df=1.0, max_features=None, min_df=1,\n",
              "                ngram_range=(1, 1), preprocessor=None, stop_words=None,\n",
              "                strip_accents=None, token_pattern='(?u)\\\\b\\\\w\\\\w+\\\\b',\n",
              "                tokenizer=None, vocabulary=None)"
            ]
          },
          "metadata": {
            "tags": []
          },
          "execution_count": 57
        }
      ]
    },
    {
      "cell_type": "code",
      "metadata": {
        "id": "gEUARshUxGXv",
        "colab_type": "code",
        "colab": {
          "base_uri": "https://localhost:8080/",
          "height": 34
        },
        "outputId": "171bd6fe-a9b7-4d90-dd1f-58e2fe2b2a61"
      },
      "source": [
        "print(len(vect.vocabulary_))"
      ],
      "execution_count": null,
      "outputs": [
        {
          "output_type": "stream",
          "text": [
            "200803\n"
          ],
          "name": "stdout"
        }
      ]
    },
    {
      "cell_type": "markdown",
      "metadata": {
        "id": "a7o-nNa815te",
        "colab_type": "text"
      },
      "source": [
        "## Vocabulario"
      ]
    },
    {
      "cell_type": "code",
      "metadata": {
        "id": "0OGSisa4xJFj",
        "colab_type": "code",
        "colab": {
          "base_uri": "https://localhost:8080/",
          "height": 34
        },
        "outputId": "9b91abc7-59e1-44d1-e137-278b9d730d9c"
      },
      "source": [
        "vect = CountVectorizer(analyzer='word', min_df=0.0002,max_df=0.8)\n",
        "vect.fit(x_treino)\n",
        "print(len(vect.vocabulary_))"
      ],
      "execution_count": null,
      "outputs": [
        {
          "output_type": "stream",
          "text": [
            "3196\n"
          ],
          "name": "stdout"
        }
      ]
    },
    {
      "cell_type": "code",
      "metadata": {
        "id": "J5Dcd_mKxOo6",
        "colab_type": "code",
        "colab": {
          "base_uri": "https://localhost:8080/",
          "height": 54
        },
        "outputId": "38b848c2-e3ca-42ca-fad5-dd85208a29d9"
      },
      "source": [
        "print(vect.vocabulary_)"
      ],
      "execution_count": null,
      "outputs": [
        {
          "output_type": "stream",
          "text": [
            "{'lol': 1603, 'husband': 1346, 'love': 1624, 'seem': 2372, 'code': 530, 'us': 2949, 'too': 2833, 'bad': 203, 'do': 758, 'get': 1098, 'breakfast': 351, 'ahh': 51, 'side': 2436, 'grass': 1153, 'blame': 290, 'woman': 3104, 'smile': 2489, 'the': 2753, 'west': 3044, 'valley': 2960, 'store': 2610, 'read': 2210, 'book': 318, 'remember': 2245, 'feel': 968, 'wish': 3090, 'suddenly': 2645, 'awful': 186, 'mood': 1777, 'maybe': 1691, 'delete': 696, 'dont': 773, 'hear': 1245, 'happy': 1212, 'at': 159, 'least': 1551, 'nothing': 1888, 'ca': 407, 'find': 990, 'one': 1927, 'change': 459, 'look': 1609, 'original': 1948, 'leave': 1552, 'often': 1912, 'people': 2016, 'keep': 1485, 'pay': 2009, 'drink': 794, 'oh': 1913, 'yeah': 3161, 'to': 2816, 'chelsea': 478, 'dollar': 768, 'wtf': 3139, 'time': 2804, 'start': 2586, 'save': 2339, 'much': 1802, 'give': 1109, 'it': 1417, 'tough': 2846, 'hey': 1267, 'beautiful': 241, 'we': 3024, 'wo': 3099, 'make': 1654, 'yo': 3174, 'baseball': 221, 'game': 1083, 'ran': 2198, 'yesterday': 3170, 'hit': 1285, 'baby': 197, 'shower': 2431, 'go': 1117, 'good': 1128, 'these': 2763, 'day': 676, 'well': 3040, 'no': 1867, 'brownie': 371, 'how': 1328, 'enjoy': 865, 'last': 1530, 'night': 1860, 'except': 908, 'lady': 1519, 'minute': 1745, 'earlier': 821, 'back': 199, 'school': 2348, 'tomorrow': 2827, 'boo': 317, 'hoo': 1309, 'dinner': 735, 'even': 887, 'wait': 2991, 'say': 2341, 'sad': 2318, 'actually': 22, 'check': 472, 'data': 670, 'both': 330, 'sound': 2541, 'boring': 325, 'atleast': 163, 'office': 1908, 'closer': 517, 'home': 1300, 'friend': 1055, 'boy': 340, 'week': 3035, 'please': 2076, 'pray': 2118, 'sick': 2435, 'son': 2525, 'decide': 686, 'plan': 2064, 'dude': 807, 'weird': 3038, 'dream': 791, 'never': 1848, 'sleep': 2473, 'but': 399, 'mtv': 1801, 'movie': 1794, 'award': 181, 'tonight': 2830, 'amaze': 84, 'year': 3163, 'quick': 2182, 'child': 486, 'thought': 2780, 'today': 2818, 'loss': 1618, 'die': 725, 'yea': 3160, 'call': 415, 'fun': 1072, 'like': 1577, 'everyone': 894, 'busy': 398, 'hi': 1269, 'great': 1155, 'link': 1583, 'info': 1385, 'usual': 2956, 'work': 3118, 'bored': 324, 'cooked': 581, 'rest': 2266, 'end': 860, 'ha': 1186, 'cant': 425, 'believe': 257, 'series': 2383, 'little': 1591, 'computer': 558, 'still': 2602, 'fancy': 944, 'iphone': 1406, 'month': 1776, 'contract': 576, 'left': 1556, 'bus': 395, 'afternoon': 40, 'travel': 2862, 'country': 600, 'cousin': 605, 'gon': 1125, 'na': 1814, 'what': 3046, 'stop': 2609, 'scary': 2345, 'pic': 2043, 'careful': 431, 'my': 1812, 'is': 1412, 'article': 145, 'real': 2214, 'new': 1850, 'camera': 418, 'met': 1719, 'danny': 664, 'omg': 1924, 'lt': 1632, 'subway': 2637, 'successful': 2639, 'sims': 2448, 'ahhhh': 53, 'bet': 266, 'life': 1573, 'whole': 3062, 'lot': 1620, 'easy': 829, 'cooking': 583, 'fix': 1002, 'everything': 896, 'ily': 1365, 'xoxo': 3146, 'thx': 2794, 'soo': 2529, 'birthday': 281, 'msn': 1800, 'slow': 2481, 'order': 1946, 'use': 2951, 'bb': 231, 'sir': 2455, 'stayed': 2594, 'hour': 1325, 'proud': 2160, 'unless': 2936, 'course': 602, 'body': 314, 'case': 435, 'muscle': 1807, 'amp': 90, 'lovely': 1626, 'orange': 1945, 'skin': 2466, 'im': 1366, 'tweeter': 2893, 'talk': 2699, 'soon': 2530, 'hangover': 1206, 'live': 1592, 'not': 1885, 'per': 2018, 'se': 2358, 'prefer': 2122, 'artist': 146, 'ok': 1919, 'worry': 3125, 'darling': 667, 'ill': 1364, 'else': 848, 'wont': 3108, 'fill': 984, 'shoe': 2419, 'xx': 3148, 'hawaii': 1230, 'fall': 939, 'asleep': 153, 'degree': 693, 'happen': 1208, 'air': 58, 'suppose': 2665, 'early': 822, 'shop': 2421, 'finish': 993, 'etc': 884, 'need': 1834, 'quality': 2178, 'photo': 2038, 'think': 2769, 'middle': 1730, 'long': 1607, 'stressful': 2620, 'situation': 2461, 'miss': 1747, 'mom': 1764, 'want': 3003, 'okay': 1920, 'reality': 2216, 'cruel': 628, 'right': 2282, 'meet': 1705, 'bill': 275, 'bout': 336, 'tear': 2720, 'ppl': 2115, 'should': 2426, 'rain': 2194, 'around': 142, 'hopefully': 1316, 'win': 3075, 'jeff': 1443, 'beat': 240, 'man': 1662, 'yes': 3169, 'chillin': 488, 'best': 264, 'way': 3023, 'relax': 2241, 'play': 2070, 'issue': 1416, 'nice': 1854, 'congrats': 566, 'touch': 2845, 'are': 135, 'better': 268, 'now': 1892, 'nah': 1816, 'seriously': 2385, 'limit': 1581, 'trip': 2869, 'tho': 2775, 'exhaust': 915, 'form': 1038, 'gym': 1185, 'take': 2694, 'eat': 830, 'study': 2629, 'yay': 3157, 'note': 1886, 'self': 2375, 'dm': 756, 'huh': 1337, 'mean': 1696, 'men': 1713, 'handle': 1202, 'lmao': 1594, 'woke': 3101, 'nightmare': 1861, 'watching': 3019, 'obama': 1899, 'on': 1925, 'french': 1050, 'tv': 2888, 'lake': 1521, 'graduation': 1147, 'pick': 2044, 'paint': 1976, 'color': 536, 'monday': 1769, 'why': 3066, 'hell': 1259, 'awake': 180, 'late': 1531, 'blah': 289, 'guess': 1174, 'goodnight': 1132, 'world': 3123, 'alone': 74, 'bed': 245, 'cuddle': 633, 'nap': 1820, 'suck': 2641, 'you': 3178, 'hold': 1293, 'thanx': 2750, 'follower': 1024, 'rip': 2284, 'me': 1694, 'shall': 2400, 'praise': 2117, 'him': 1279, 'phone': 2037, 'facebook': 931, 'share': 2403, 'secret': 2367, 'bff': 271, 'gal': 1082, 'pathetic': 2004, 'xxx': 3149, 'really': 2218, 'poor': 2095, 'working': 3120, 'assignment': 156, 'cute': 645, 'omfg': 1923, 'everytime': 897, 'tweet': 2891, 'know': 1509, 'reply': 2256, 'excite': 910, 'could': 595, 'sweet': 2678, 'cost': 592, 'ask': 152, 'sure': 2666, 'drove': 800, 'car': 427, 'sadness': 2320, 'show': 2430, 'june': 1474, 'enough': 867, 'see': 2370, 'sorry': 2538, 'bike': 274, 'probably': 2144, 'til': 2801, 'summer': 2652, 'vacation': 2959, 'hahaha': 1193, 'awesome': 185, 'ever': 890, 'and': 94, 'always': 81, 'answer': 109, 'quot': 2188, 'problem': 2145, 'response': 2265, 'thank': 2745, 'pretty': 2132, 'unfollow': 2929, 'cut': 644, 'quickly': 2183, 'grow': 1166, 'habit': 1187, 'challenge': 457, 'twitter': 2902, 'park': 1992, 'myspace': 1813, 'picture': 2047, 'agree': 45, 'dead': 680, 'your': 3180, 'taste': 2709, 'hungry': 1342, 'expect': 918, 'spam': 2550, 'next': 1852, 'he': 1234, 'player': 2072, 'almost': 73, 'welcome': 3039, 'josh': 1466, 'voice': 2984, 'wan': 3001, 'dance': 661, 'favorite': 958, 'poker': 2090, 'face': 930, 'dread': 790, 'exam': 905, 'hate': 1221, 'anymore': 112, 'just': 1478, 'land': 1524, 'denver': 705, 'stay': 2593, 'boat': 312, 'ride': 2280, 'view': 2977, 'lunch': 1636, 'headin': 1238, 'de': 679, 'wedding': 3031, 'post': 2106, 'fb': 961, 'app': 121, 'have': 1225, 'cross': 626, 'puppy': 2170, 'allergic': 70, 'reaction': 2209, 'thanks': 2748, 'hearing': 1247, 'cry': 631, 'internet': 1401, 'doubt': 778, 'drop': 799, 'upon': 2943, 'tix': 2813, 'absolutely': 2, 'would': 3128, 'dye': 819, 'so': 2500, 'peep': 2014, 'taking': 2696, 'hannah': 1207, 'parent': 1990, 'planning': 2067, 'shut': 2433, 'soup': 2544, 'come': 538, 'along': 75, 'someone': 2518, 'told': 2822, 'sun': 2653, 'sea': 2359, 'surf': 2668, 'has': 1218, 'been': 249, 'anything': 114, 'tim': 2803, 'crew': 624, 'truly': 2873, 'second': 2366, 'wind': 3076, 'bedtime': 247, 'begin': 253, 'cuz': 648, 'person': 2026, 'list': 1586, 'only': 1929, 'semester': 2377, 'number': 1894, 'mo': 1760, 'kind': 1497, 'mine': 1741, 'kid': 1492, 'tea': 2716, 'lots': 1621, 'slice': 2477, 'commercial': 546, 'waste': 3014, 'watch': 3016, 'half': 1199, 'room': 2299, 'listen': 1587, 'ipod': 1407, 'totally': 2844, 'doctor': 760, 'cancel': 422, 'drama': 787, 'damn': 658, 'outside': 1957, 'gt': 1172, 'hmm': 1288, 'sat': 2335, 'bore': 323, 'mind': 1740, 'green': 1157, 'family': 941, 'lose': 1616, 'paper': 1986, 'rock': 2293, 'got': 1139, 'ta': 2690, 'network': 1847, 'blog': 303, 'weekend': 3036, 'report': 2257, 'test': 2737, 'hehe': 1256, 'mad': 1644, 'help': 1262, 'guy': 1183, 'listening': 1589, 'who': 3059, 'be': 236, 'connection': 570, 'doing': 766, 'might': 1732, 'art': 144, 'later': 1533, 'credit': 622, 'song': 2526, 'headache': 1236, 'continue': 575, 'morning': 1782, 'officially': 1910, 'old': 1922, 'medicine': 1701, 'for': 1030, 'matter': 1688, 'instead': 1395, 'ah': 46, 'goodbye': 1129, 'setting': 2391, 'in': 1375, 'sky': 2471, 'truth': 2875, 'out': 1955, 'lie': 1572, 'its': 1423, 'over': 1960, 'junior': 1475, 'hang': 1203, 'bunch': 389, 'graduate': 1146, 'buy': 403, 'jam': 1432, 'star': 2584, 'trek': 2865, 'france': 1044, 'likely': 1578, 'coffee': 531, 'saw': 2340, 'net': 1846, 'shes': 2408, 'already': 77, 'soooo': 2533, 'fast': 950, 'sadly': 2319, 'broken': 366, 'try': 2876, 'hook': 1311, 'brother': 367, 'screen': 2355, 'completely': 555, 'forgot': 1036, 'mail': 1650, 're': 2207, 'site': 2458, 'finally': 988, 'send': 2378, 'bob': 313, 'difficult': 731, 'sister': 2456, 'stuck': 2626, 'till': 2802, 'lame': 1523, 'screw': 2356, 'cool': 585, 'meeting': 1706, 'awww': 192, 'dave': 673, 'ryan': 2316, 'dog': 763, 'aww': 191, 'nervous': 1845, 'sigh': 2437, 'nasty': 1822, 'weather': 3027, 'beach': 237, 'fish': 998, 'stick': 2601, 'knew': 1505, 'coming': 544, 'tip': 2808, 'incredibly': 1379, 'famous': 942, 'father': 953, 'jus': 1477, 'checked': 473, 'fair': 936, 'em': 849, 'headed': 1237, 'had': 1189, 'normal': 1880, 'apart': 119, 'fox': 1043, 'packed': 1970, 'ready': 2213, 'service': 2388, 'write': 3134, 'bc': 234, 'figure': 982, 'plz': 2083, 'am': 82, 'complete': 554, 'itunes': 1424, 'account': 12, 'prove': 2161, 'address': 29, 'cause': 441, 'quiet': 2184, 'currently': 640, 'line': 1582, 'princess': 2138, 'theatre': 2755, 'all': 68, 'low': 1631, 'move': 1793, 'stuff': 2631, 'big': 273, 'faster': 951, 'garden': 1085, 'soak': 2501, 'ray': 2206, 'revise': 2275, 'if': 1360, 'chocolate': 492, 'chip': 491, 'pancake': 1981, 'ice': 1350, 'cream': 619, 'shout': 2429, 'party': 1996, 'open': 1937, 'pool': 2093, 'anybody': 111, 'care': 429, 'nooooo': 1878, 'full': 1070, 'effect': 840, 'di': 720, 'sa': 2317, 'goodmorning': 1130, 'chicago': 483, 'first': 997, 'cup': 634, 'radio': 2193, 'mix': 1754, 'jazz': 1439, 'broke': 365, 'podcast': 2086, 'bak': 208, 'uh': 2918, 'pack': 1968, 'flight': 1010, 'loud': 1622, 'annoy': 106, 'house': 1326, 'hot': 1323, 'again': 42, 'update': 2939, 'whenever': 3051, 'message': 1718, 'hope': 1315, 'chair': 456, 'city': 503, 'name': 1819, 'gay': 1087, 'laugh': 1534, 'smoking': 2492, 'unfortunately': 2930, 'trade': 2853, 'going': 1121, 'price': 2135, 'hello': 1261, 'sweetheart': 2679, 'conversation': 578, 'reading': 2212, 'beyond': 269, 'evil': 899, 'reminds': 2248, 'super': 2662, 'stage': 2578, 'though': 2779, 'text': 2739, 'rainy': 2196, 'dnt': 757, 'saturday': 2336, 'sunday': 2657, 'fellow': 973, 'slept': 2476, 'every': 891, 'beer': 250, 'hand': 1201, 'being': 256, 'copy': 589, 'forward': 1040, 'thing': 2766, 'mess': 1717, 'nail': 1817, 'everybody': 892, 'foot': 1028, 'hurt': 1345, 'noodle': 1873, 'food': 1026, 'bit': 283, 'sunburnt': 2656, 'chain': 455, 'woo': 3109, 'vega': 2965, 'july': 1472, 'wooo': 3112, 'leak': 1549, 'news': 1851, 'hoping': 1317, 'hospital': 1321, 'fever': 978, 'another': 108, 'winter': 3084, 'freak': 1045, 'sittin': 2459, 'sum': 2651, 'feelin': 969, 'letter': 1568, 'makes': 1655, 'boston': 329, 'pizza': 2061, 'board': 311, 'xd': 3143, 'sore': 2537, 'throat': 2785, 'sing': 2450, 'bride': 355, 'war': 3006, 'town': 2850, 'eh': 844, 'let': 1566, 'forever': 1033, 'google': 1133, 'disney': 747, 'record': 2228, 'quite': 2186, 'aha': 47, 'million': 1738, 'survive': 2672, 'hr': 1332, 'more': 1779, 'can': 420, 'tell': 2728, 'spring': 2572, 'break': 350, 'light': 1575, 'soul': 2540, 'add': 25, 'respond': 2264, 'heart': 1248, 'realize': 2217, 'luck': 1633, 'young': 3179, 'shoulder': 2428, 'without': 3096, 'story': 2612, 'darn': 668, 'dentist': 704, 'thats': 2752, 'imma': 1370, 'finished': 994, 'english': 864, 'hop': 1314, 'sit': 2457, 'mother': 1786, 'laptop': 1528, 'curry': 641, 'lucky': 1635, 'current': 639, 'upgrade': 2940, 'oops': 1936, 'top': 2839, 'website': 3029, 'wit': 3093, 'preview': 2133, 'ball': 212, 'bar': 218, 'wasnt': 3013, 'there': 2762, 'wknd': 3098, 'join': 1459, 'club': 523, 'youu': 3184, 'ima': 1367, 'haha': 1191, 'accent': 5, 'crazy': 618, 'nyc': 1898, 'ohhh': 1915, 'set': 2390, 'which': 3055, 'connect': 569, 'this': 2773, 'watchin': 3018, 'smh': 2488, 'plane': 2065, 'crash': 614, 'leaving': 1553, 'forget': 1034, 'ur': 2946, 'invite': 1404, 'tummy': 2884, 'hiya': 1286, 'sunny': 2660, 'ten': 2731, 'bright': 357, 'pink': 2056, 'teeth': 2726, 'ya': 3152, 'useful': 2952, 'kinda': 1498, 'wondering': 3107, 'age': 43, 'loose': 1614, 'pls': 2080, 'cramp': 611, 'magic': 1648, 'carry': 433, 'bug': 382, 'after': 39, 'twilight': 2897, 'that': 2751, 'practice': 2116, 'here': 1265, 'cheese': 476, 'regular': 2237, 'toast': 2817, 'friendly': 1056, 'download': 781, 'also': 79, 'something': 2520, 'lazy': 1544, 'cake': 412, 'rehearsal': 2238, 'outfit': 1956, 'american': 88, 'folk': 1022, 'boyfriend': 341, 'pub': 2164, 'earth': 824, 'sleepover': 2474, 'place': 2062, 'ko': 1510, 'kelly': 1486, 'crack': 610, 'comment': 545, 'blink': 299, 'ahhh': 52, 'while': 3056, 'woop': 3113, 'yall': 3155, 'shit': 2416, 'band': 215, 'company': 550, 'major': 1653, 'although': 80, 'making': 1658, 'hard': 1213, 'human': 1338, 'traffic': 2854, 'they': 2764, 'girl': 1106, 'turn': 2887, 'sex': 2395, 'very': 2969, 'obsess': 1900, 'channel': 460, 'obviously': 1901, 'terrible': 2735, 'depressed': 708, 'bf': 270, 'become': 244, 'mee': 1703, 'yet': 3171, 'anyways': 117, 'dress': 792, 'perform': 2021, 'head': 1235, 'season': 2362, 'finale': 987, 'desperate': 713, 'singer': 2452, 'youre': 3181, 'mountain': 1790, 'throw': 2786, 'rob': 2290, 'word': 3115, 'true': 2872, 'alot': 76, 'smoke': 2491, 'recently': 2222, 'high': 1272, 'performance': 2022, 'introduce': 1403, 'fuckin': 1068, 'sexy': 2396, 'definitely': 692, 'weight': 3037, 'butt': 400, 'pair': 1978, 'skinny': 2467, 'jean': 1442, 'free': 1047, 'wifi': 3070, 'sarah': 2334, 'host': 1322, 'server': 2387, 'fresh': 1051, 'release': 2242, 'date': 671, 'eye': 927, 'wee': 3033, 'spell': 2558, 'tired': 2810, 'dc': 678, 'miami': 1726, 'horrible': 1318, 'lip': 1584, 'glad': 1110, 'speak': 2553, 'team': 2719, 'future': 1076, 'security': 2369, 'min': 1739, 'run': 2313, 'leg': 1557, 'found': 1041, 'feeling': 970, 'pride': 2136, 'hike': 1275, 'mile': 1735, 'pig': 2051, 'upload': 2941, 'deal': 682, 'product': 2148, 'chris': 496, 'bagel': 206, 'explain': 921, 'things': 2767, 'meat': 1699, 'job': 1454, 'daddy': 652, 'jay': 1438, 'abt': 3, 'ugh': 2914, 'heh': 1255, 'parade': 1987, 'of': 1905, 'gig': 1105, 'texting': 2740, 'dis': 739, 'da': 650, 'walk': 2996, 'college': 535, 'bro': 364, 'felt': 974, 'able': 0, 'somewhere': 2524, 'shitty': 2417, 'music': 1809, 'goin': 1120, 'tennis': 2732, 'disappointed': 742, 'happier': 1210, 'rite': 2286, 'fine': 991, 'rather': 2204, 'entertain': 869, 'rabbit': 2190, 'fly': 1018, 'away': 183, 'part': 1994, 'wife': 3069, 'la': 1516, 'pure': 2172, 'happiness': 1211, 'extreme': 925, 'depends': 706, 'source': 2545, 'was': 3011, 'church': 500, 'function': 1073, 'caught': 440, 'pound': 2112, 'web': 3028, 'design': 710, 'tan': 2703, 'suffer': 2646, 'blue': 310, 'scar': 2343, 'monkey': 1773, 'ep': 873, 'mobile': 1761, 'sweetie': 2680, 'either': 845, 'did': 723, 'countdown': 598, 'nba': 1827, 'final': 986, 'japanese': 1436, 'language': 1526, 'stand': 2582, 'fail': 934, 'adorable': 31, 'yr': 3186, 'mac': 1641, 'money': 1771, 'may': 1690, 'box': 339, 'kate': 1481, 'pasta': 2002, 'downtown': 783, 'idea': 1355, 'fuck': 1067, 'kick': 1491, 'homework': 1302, 'hehehe': 1257, 'appear': 123, 'single': 2453, 'kill': 1494, 'safe': 2322, 'past': 2001, 'mama': 1661, 'plus': 2082, 'owe': 1963, 'email': 850, 'gettin': 1099, 'moon': 1778, 'tour': 2847, 'fan': 943, 'member': 1711, 'user': 2954, 'mum': 1805, 'playing': 2074, 'many': 1667, 'missed': 1748, 'paul': 2008, 'follow': 1023, 'uk': 2919, 'delayed': 695, 'sf': 2397, 'ate': 160, 'ridiculous': 2281, 'amount': 89, 'strawberry': 2616, 'yummy': 3190, 'maintenance': 1652, 'nadal': 1815, 'race': 2191, 'ache': 14, 'gf': 1101, 'couple': 601, 'up': 2938, 'miley': 1736, 'didnt': 724, 'goood': 1134, 'daughter': 672, 'two': 2908, 'twitpic': 2901, 'smart': 2485, 'cell': 447, 'since': 2449, 'hat': 1220, 'shot': 2425, 'sitting': 2460, 'dad': 651, 'memory': 1712, 'card': 428, 'anyone': 113, 'video': 2975, 'demi': 701, 'concert': 562, 'sometimes': 2522, 'johnny': 1458, 'cnt': 525, 'put': 2177, 'aim': 56, 'roll': 2297, 'rough': 2303, 'heat': 1249, 'xxxxx': 3151, 'software': 2510, 'accidentally': 9, 'file': 983, 'geography': 1094, 'yep': 3167, 'short': 2423, 'nj': 1865, 'ughhh': 2916, 'horror': 1319, 'same': 2328, 'others': 1951, 'pc': 2010, 'desktop': 712, 'our': 1954, 'lemon': 1561, 'honey': 1307, 'three': 2782, 'worth': 3127, 'laundry': 1536, 'alex': 66, 'mummy': 1806, 'heading': 1239, 'tidy': 2797, 'medium': 1702, 'gd': 1088, 'swim': 2682, 'huge': 1335, 'aw': 179, 'eww': 901, 'wash': 3012, 'anyway': 116, 'kno': 1507, 'tony': 2832, 'neither': 1841, 'area': 136, 'climb': 513, 'event': 888, 'storm': 2611, 'britain': 361, 'talent': 2697, 'toy': 2851, 'far': 946, 'yup': 3191, 'ton': 2828, 'somewhat': 2523, 'impressed': 1373, 'refresh': 2233, 'version': 2968, 'ankle': 102, 'boot': 322, 'pain': 1974, 'snow': 2498, 'enjoying': 866, 'chill': 487, 'catch': 439, 'section': 2368, 'texas': 2738, 'instal': 1393, 'terminator': 2734, 'special': 2555, 'bought': 334, 'twist': 2899, 'bitch': 284, 'swollen': 2686, 'painful': 1975, 'il': 1363, 'shirt': 2415, 'size': 2463, 'wear': 3026, 'joy': 1468, 'return': 2271, 'four': 1042, 'cat': 438, 'vote': 2986, 'or': 1944, 'will': 3073, 'awwww': 193, 'nut': 1895, 'sooo': 2532, 'jealous': 1441, 'assume': 157, 'bruise': 373, 'andrew': 95, 'chicken': 485, 'fight': 981, 'thinking': 2771, 'positive': 2103, 'comin': 543, 'feature': 963, 'most': 1784, 'gorgeous': 1136, 'turkey': 2886, 'bacon': 202, 'chapter': 461, 'technology': 2723, 'hair': 1197, 'apartment': 120, 'sean': 2360, 'aka': 60, 'melt': 1710, 'king': 1499, 'si': 2434, 'coke': 532, 'sundays': 2658, 'que': 2179, 'idk': 1357, 'emo': 856, 'argh': 139, 'forecast': 1032, 'camp': 419, 'airport': 59, 'pleasure': 2078, 'emma': 855, 'dallas': 654, 'shift': 2409, 'trailer': 2855, 'robert': 2291, 'curious': 637, 'cover': 606, 'tee': 2724, 'repair': 2253, 'budget': 381, 'complain': 553, 'road': 2288, 'bother': 331, 'german': 1096, 'rid': 2279, 'ago': 44, 'congratulation': 567, 'pet': 2029, 'pass': 1998, 'curse': 642, 'hurry': 1344, 'approve': 130, 'te': 2715, 'twice': 2896, 'annoyed': 107, 'anniversary': 104, 'north': 1882, 'melbourne': 1709, 'bum': 387, 'crush': 630, 'theyre': 2765, 'together': 2820, 'main': 1651, 'quit': 2185, 'fire': 995, 'excited': 911, 'stretch': 2621, 'kitty': 1503, 'raise': 2197, 'guys': 1184, 'msg': 1799, 'virus': 2980, 'point': 2088, 'lil': 1579, 'workin': 3119, 'purchase': 2171, 'lem': 1560, 'reach': 2208, 'cleaning': 507, 'christmas': 498, 'tree': 2864, 'wednesday': 3032, 'tire': 2809, 'wake': 2994, 'afford': 36, 'settle': 2392, 'gift': 1104, 'rush': 2315, 'tune': 2885, 'signal': 2440, 'justin': 1479, 'mistake': 1752, 'recommend': 2226, 'nick': 1856, 'david': 674, 'presentation': 2128, 'peace': 2011, 'waiting': 2993, 'those': 2777, 'grocery': 1162, 'bag': 205, 'yikes': 3173, 'btw': 376, 'sell': 2376, 'forum': 1039, 'thunderstorm': 2791, 'promise': 2156, 'ed': 834, 'cop': 588, 'sent': 2381, 'ticket': 2796, 'sale': 2325, 'frozen': 1062, 'possible': 2104, 'salad': 2324, 'chinese': 490, 'journey': 1467, 'perfectly': 2020, 'gah': 1080, 'across': 15, 'universe': 2934, 'besides': 263, 'rent': 2252, 'amanda': 83, 'bank': 217, 'jess': 1447, 'sara': 2333, 'kitchen': 1501, 'hiding': 1271, 'uni': 2932, 'lab': 1517, 'addiction': 27, 'tube': 2881, 'mmmm': 1758, 'awsome': 190, 'somethin': 2519, 'interest': 1398, 'wonder': 3105, 'fully': 1071, 'schedule': 2347, 'compare': 551, 'fault': 954, 'clean': 506, 'remind': 2246, 'ground': 1164, 'attack': 165, 'freakin': 1046, 'bottle': 332, 'glass': 1112, 'entire': 870, 'somebody': 2515, 'pee': 2013, 'hole': 1294, 'exactly': 904, 'imagine': 1369, 'mexican': 1722, 'page': 1972, 'loser': 1617, 'status': 2592, 'whew': 3054, 'twin': 2898, 'class': 504, 'subject': 2636, 'shopping': 2422, 'everyday': 893, 'san': 2329, 'choice': 493, 'girlfriend': 1107, 'addict': 26, 'topic': 2840, 'where': 3052, 'mention': 1715, 'rescue': 2260, 'snap': 2494, 'looking': 1611, 'cd': 443, 'helpful': 1263, 'ouch': 1953, 'living': 1593, 'canada': 421, 'insurance': 1396, 'unable': 2925, 'oooh': 1934, 'math': 1685, 'revision': 2276, 'jon': 1462, 'divorce': 753, 'bday': 235, 'xox': 3145, 'clothes': 520, 'heel': 1254, 'hp': 1331, 'wallet': 2999, 'buck': 378, 'spend': 2559, 'george': 1095, 'lightning': 1576, 'thunder': 2790, 'random': 2199, 'momma': 1766, 'building': 385, 'offer': 1907, 'chat': 469, 'heard': 1246, 'partner': 1995, 'longer': 1608, 'bummer': 388, 'about': 1, 'xbox': 3142, 'sang': 2331, 'timing': 2806, 'holiday': 1295, 'rat': 2202, 'went': 3042, 'inspire': 1392, 'theory': 2760, 'muffin': 1803, 'thursday': 2793, 'daily': 653, 'question': 2181, 'wrong': 3138, 'al': 61, 'mcfly': 1693, 'isnt': 1415, 'tweeps': 2890, 'square': 2573, 'black': 287, 'va': 2958, 'ohh': 1914, 'nope': 1879, 'temp': 2729, 'mall': 1660, 'delay': 694, 'unfair': 2928, 'nature': 1825, 'cloud': 521, 'james': 1433, 'style': 2634, 'death': 684, 'perfect': 2019, 'sunburn': 2655, 'nose': 1884, 'lakers': 1522, 'draw': 789, 'pix': 2060, 'south': 2546, 'business': 396, 'smell': 2487, 'drive': 796, 'hahahaha': 1195, 'freedom': 1048, 'wave': 3022, 'hug': 1334, 'whore': 3065, 'sort': 2539, 'adam': 24, 'count': 597, 'dear': 683, 'tie': 2798, 'hubby': 1333, 'blind': 298, 'table': 2691, 'front': 1061, 'friday': 1053, 'luv': 1637, 'brazil': 348, 'ring': 2283, 'organize': 1947, 'lost': 1619, 'learn': 1550, 'master': 1682, 'important': 1371, 'celebrate': 444, 'allow': 72, 'wonderful': 3106, 'blessing': 296, 'horse': 1320, 'close': 516, 'charge': 463, 'kiss': 1500, 'wordpress': 3116, 'layout': 1543, 'theme': 2758, 'blogger': 304, 'off': 1906, 'brand': 347, 'license': 1571, 'result': 2269, 'god': 1119, 'bless': 295, 'ala': 62, 'pocket': 2085, 'serious': 2384, 'burning': 393, 'recital': 2225, 'errand': 878, 'wow': 3130, 'demo': 702, 'online': 1928, 'via': 2971, 'white': 3058, 'starbucks': 2585, 'spot': 2570, 'blow': 309, 'indeed': 1380, 'jamie': 1434, 'wk': 3097, 'pas': 1997, 'sofa': 2507, 'awards': 182, 'history': 1284, 'bring': 359, 'woohoo': 3111, 'cold': 533, 'amazing': 85, 'cyrus': 649, 'load': 1597, 'enter': 868, 'lonely': 1606, 'bunny': 390, 'ear': 820, 'coast': 528, 'fantastic': 945, 'alive': 67, 'shock': 2418, 'jesus': 1449, 'hotel': 1324, 'oil': 1918, 'speech': 2556, 'engine': 862, 'moment': 1765, 'such': 2640, 'advice': 35, 'november': 1891, 'jordan': 1465, 'thankyou': 2749, 'repeat': 2254, 'sony': 2528, 'funny': 1075, 'shave': 2405, 'when': 3050, 'arrive': 143, 'hun': 1339, 'understand': 2927, 'six': 2462, 'edit': 836, 'spread': 2571, 'ohhhh': 1916, 'laid': 1520, 'italy': 1419, 'cu': 632, 'andy': 96, 'rich': 2278, 'grind': 1161, 'spent': 2561, 'small': 2484, 'slightly': 2479, 'co': 526, 'cook': 580, 'smith': 2490, 'babysitting': 198, 'target': 2707, 'water': 3020, 'effort': 842, 'apparently': 122, 'joey': 1456, 'korean': 1512, 'arent': 137, 'japan': 1435, 'ahaha': 49, 'detail': 716, 'getting': 1100, 'personal': 2027, 'river': 2287, 'joke': 1460, 'guilty': 1177, 'bite': 285, 'despite': 714, 'hahahah': 1194, 'negative': 1837, 'ty': 2911, 'rise': 2285, 'shine': 2411, 'blackberry': 288, 'ny': 1897, 'silly': 2442, 'nite': 1864, 'bos': 328, 'bt': 375, 'meaning': 1697, 'chest': 482, 'piece': 2049, 'distract': 751, 'softball': 2509, 'shame': 2401, 'jackson': 1429, 'senior': 2379, 'workout': 3121, 'film': 985, 'productive': 2149, 'mia': 1725, 'group': 1165, 'tmrw': 2815, 'opera': 1939, 'plenty': 2079, 'geek': 1090, 'dunno': 813, 'as': 147, 'discover': 743, 'yu': 3187, 'wore': 3117, 'flip': 1011, 'looks': 1612, 'festival': 977, 'fit': 1000, 'confuse': 565, 'honestly': 1306, 'basically': 222, 'pie': 2048, 'hilarious': 1276, 'youtube': 3183, 'patrick': 2006, 'studio': 2628, 'chore': 495, 'some': 2514, 'poop': 2094, 'mouth': 1792, 'friends': 1057, 'grade': 1145, 'writing': 3136, 'grad': 1144, 'fed': 964, 'having': 1228, 'sugar': 2647, 'sleepy': 2475, 'door': 775, 'knock': 1508, 'neighbor': 1839, 'knight': 1506, 'private': 2140, 'less': 1564, 'california': 414, 'jones': 1464, 'depress': 707, 'society': 2505, 'leno': 1562, 'conan': 560, 'grr': 1168, 'mosquito': 1783, 'shoot': 2420, 'wood': 3110, 'bath': 226, 'itch': 1420, 'tech': 2722, 'football': 1029, 'truck': 2871, 'burnt': 394, 'finger': 992, 'coach': 527, 'browser': 372, 'stream': 2617, 'forgotten': 1037, 'alarm': 63, 'bridge': 356, 'hill': 1277, 'stair': 2579, 'official': 1909, 'stuffed': 2632, 'lap': 1527, 'lens': 1563, 'lisa': 1585, 'counting': 599, 'doggy': 764, 'vet': 2970, 'jonas': 1463, 'brothers': 368, 'sm': 2483, 'cafe': 410, 'pot': 2108, 'dry': 804, 'possibly': 2105, 'sweat': 2677, 'bye': 406, 'id': 1354, 'hack': 1188, 'contact': 572, 'swear': 2676, 'must': 1811, 'slowly': 2482, 'havent': 1226, 'jack': 1427, 'different': 730, 'meant': 1698, 'energy': 861, 'model': 1763, 'awhile': 188, 'match': 1683, 'tuesday': 2883, 'public': 2165, 'cheer': 474, 'shiny': 2412, 'spoil': 2567, 'atlanta': 162, 'improve': 1374, 'yeahh': 3162, 'london': 1605, 'mcdonalds': 1692, 'treat': 2863, 'properly': 2159, 'she': 2406, 'mostly': 1785, 'vodka': 2983, 'nowhere': 1893, 'ii': 1362, 'booo': 320, 'hardly': 1216, 'twit': 2900, 'mini': 1742, 'terribly': 2736, 'hide': 1270, 'space': 2548, 'tom': 2823, 'ohio': 1917, 'adventure': 34, 'pour': 2113, 'opening': 1938, 'act': 16, 'straight': 2613, 'direct': 736, 'doin': 765, 'classic': 505, 'colour': 537, 'nearly': 1831, 'outta': 1958, 'awwwww': 194, 'step': 2597, 'babe': 196, 'tryna': 2879, 'build': 384, 'donut': 774, 'honor': 1308, 'hmmm': 1289, 'audition': 170, 'thinkin': 2770, 'inch': 1376, 'hahah': 1192, 'especially': 882, 'pit': 2058, 'bomb': 315, 'spanish': 2551, 'restaurant': 2267, 'anytime': 115, 'ol': 1921, 'played': 2071, 'edward': 838, 'jacob': 1430, 'solo': 2511, 'safari': 2321, 'beta': 267, 'sometime': 2521, 'chemistry': 480, 'hw': 1348, 'lovin': 1629, 'then': 2759, 'cab': 408, 'bbc': 232, 'opinion': 1940, 'flower': 1016, 'wisdom': 3088, 'tooth': 2838, 'mr': 1797, 'raw': 2205, 'track': 2852, 'haircut': 1198, 'expensive': 919, 'idol': 1358, 'lily': 1580, 'sunshine': 2661, 'burn': 392, 'bestie': 265, 'leaf': 1547, 'feed': 966, 'shade': 2398, 'force': 1031, 'excellent': 907, 'surprise': 2670, 'guitar': 1178, 'battery': 228, 'charger': 464, 'dare': 665, 'italian': 1418, 'skype': 2472, 'whatever': 3047, 'hungover': 1341, 'double': 777, 'bass': 224, 'fab': 928, 'by': 405, 'montana': 1775, 'brunch': 374, 'jake': 1431, 'rule': 2312, 'breath': 352, 'owner': 1965, 'st': 2575, 'heyy': 1268, 'whats': 3048, 'meee': 1704, 'prom': 2155, 'feels': 971, 'prayer': 2119, 'loving': 1630, 'deliver': 698, 'motivation': 1789, 'cash': 436, 'kobe': 1511, 'key': 1489, 'mitchel': 1753, 'album': 64, 'ai': 55, 'background': 200, 'mi': 1724, 'pa': 1967, 'appreciate': 128, 'prepare': 2125, 'starve': 2588, 'rofl': 2295, 'odd': 1904, 'snuggle': 2499, 'thou': 2778, 'iron': 1411, 'bubble': 377, 'hero': 1266, 'makeup': 1656, 'alright': 78, 'signing': 2441, 'aint': 57, 'drinking': 795, 'grown': 1167, 'item': 1422, 'brilliant': 358, 'writer': 3135, 'jump': 1473, 'suit': 2650, 'fell': 972, 'toilet': 2821, 'fest': 976, 'gunna': 1181, 'oz': 1966, 'watched': 3017, 'clip': 514, 'joe': 1455, 'retweet': 2272, 'dumb': 811, 'bleeding': 293, 'billy': 276, 'confirm': 564, 'statement': 2590, 'deep': 689, 'breathe': 353, 'smash': 2486, 'admit': 30, 'manager': 1664, 'relationship': 2240, 'eminem': 854, 'rap': 2201, 'gotten': 1141, 'eventually': 889, 'migraine': 1733, 'lookin': 1610, 'emily': 853, 'stupid': 2633, 'biscuit': 282, 'yum': 3189, 'blew': 297, 'ugly': 2917, 'ive': 1426, 'holy': 1299, 'spider': 2562, 'behind': 254, 'wreck': 3132, 'intense': 1397, 'mate': 1684, 'aswell': 158, 'hee': 1253, 'caffeine': 411, 'project': 2153, 'type': 2912, 'username': 2955, 'explode': 922, 'meh': 1708, 'fyi': 1077, 'pillow': 2054, 'lauren': 1538, 'total': 2843, 'extra': 924, 'spending': 2560, 'common': 547, 'choose': 494, 'sneak': 2495, 'street': 2618, 'delivery': 699, 'un': 2924, 'session': 2389, 'grateful': 1154, 'duty': 815, 'accident': 8, 'heck': 1252, 'large': 1529, 'steal': 2596, 'hav': 1224, 'lay': 1541, 'cough': 594, 'plant': 2068, 'diversity': 752, 'sucks': 2642, 'wild': 3072, 'hood': 1310, 'sydney': 2687, 'mango': 1666, 'wat': 3015, 'con': 559, 'drug': 801, 'teh': 2727, 'wii': 3071, 'ruin': 2311, 'interview': 1402, 'ms': 1798, 'receive': 2220, 'success': 2638, 'available': 176, 'ps': 2163, 'pete': 2030, 'block': 302, 'boys': 343, 'round': 2304, 'spare': 2552, 'macbook': 1642, 'genius': 1093, 'machine': 1643, 'lo': 1596, 'xo': 3144, 'nd': 1828, 'days': 677, 'trust': 2874, 'voting': 2987, 'press': 2129, 'parking': 1993, 'chick': 484, 'demand': 700, 'any': 110, 'burger': 391, 'grace': 1143, 'rainbow': 2195, 'rate': 2203, 'ashley': 150, 'bee': 248, 'wanted': 3004, 'diet': 728, 'dr': 784, 'pepper': 2017, 'retard': 2270, 'wrist': 3133, 'loves': 1628, 'twitterville': 2907, 'ne': 1829, 'recipe': 2224, 'juice': 1471, 'pretend': 2131, 'information': 1387, 'cookie': 582, 'tweetdeck': 2892, 'typical': 2913, 'made': 1645, 'train': 2856, 'iv': 1425, 'dope': 776, 'ass': 154, 'couldnt': 596, 'dang': 662, 'experience': 920, 'emergency': 852, 'surgery': 2669, 'tha': 2743, 'din': 734, 'red': 2230, 'rice': 2277, 'favourite': 959, 'emotional': 857, 'dvd': 816, 'does': 761, 'suggestion': 2649, 'bud': 379, 'vid': 2974, 'near': 1830, 'ie': 1359, 'paid': 1973, 'multiple': 1804, 'reason': 2219, 'stress': 2619, 'visit': 2981, 'baking': 210, 'egg': 843, 'fam': 940, 'laying': 1542, 'farm': 947, 'health': 1242, 'roof': 2298, 'carpet': 432, 'stomach': 2607, 'replace': 2255, 'process': 2147, 'picked': 2045, 'tmr': 2814, 'mothers': 1787, 'eff': 839, 'mouse': 1791, 'promote': 2157, 'support': 2664, 'fry': 1065, 'allen': 69, 'image': 1368, 'talented': 2698, 'girls': 1108, 'boooo': 321, 'havnt': 1229, 'gosh': 1137, 'insomnia': 1390, 'neighbour': 1840, 'barely': 219, 'york': 3177, 'state': 2589, 'trying': 2878, 'lawn': 1540, 'rose': 2302, 'belly': 260, 'yayyy': 3159, 'gots': 1140, 'row': 2307, 'keyboard': 1490, 'cheers': 475, 'wheel': 3049, 'bbq': 233, 'comp': 549, 'doesnt': 762, 'somehow': 2517, 'kevin': 1488, 'student': 2627, 'poo': 2092, 'heal': 1241, 'strong': 2624, 'conference': 563, 'sign': 2439, 'ad': 23, 'standard': 2583, 'bell': 258, 'yell': 3165, 'bear': 239, 'borrow': 327, 'pop': 2097, 'nashville': 1821, 'option': 1943, 'dark': 666, 'def': 690, 'brian': 354, 'fave': 956, 'judge': 1470, 'corner': 590, 'cam': 417, 'regret': 2236, 'five': 1001, 'switch': 2685, 'idiot': 1356, 'randomly': 2200, 'queen': 2180, 'bread': 349, 'whoop': 3064, 'drank': 788, 'heaven': 1250, 'van': 2963, 'fact': 932, 'afraid': 37, 'lolz': 1604, 'aye': 195, 'hv': 1347, 'password': 2000, 'application': 125, 'blast': 292, 'science': 2349, 'coolest': 587, 'control': 577, 'an': 93, 'geez': 1091, 'root': 2301, 'tease': 2721, 'rub': 2308, 'gloomy': 1113, 'deserve': 709, 'happens': 1209, 'listenin': 1588, 'salt': 2326, 'scream': 2354, 'error': 879, 'brought': 369, 'lvatt': 1638, 'sooooooo': 2536, 'swine': 2683, 'flu': 1017, 'everywhere': 898, 'nothin': 1887, 'her': 1264, 'remove': 2251, 'um': 2920, 'doc': 759, 'blood': 307, 'tryin': 2877, 'sounds': 2542, 'warm': 3007, 'fridge': 1054, 'atm': 164, 'tomorow': 2826, 'nobody': 1868, 'dick': 722, 'phew': 2032, 'stoke': 2605, 'failure': 935, 'staff': 2577, 'toronto': 2841, 'dvr': 817, 'ghost': 1102, 'slide': 2478, 'hills': 1278, 'prepared': 2126, 'sense': 2380, 'ahead': 50, 'system': 2689, 'apps': 131, 'kids': 1493, 'closing': 519, 'thru': 2787, 'knee': 1504, 'international': 1400, 'scene': 2346, 'pill': 2053, 'fool': 1027, 'europe': 886, 'ooh': 1932, 'fav': 955, 'popular': 2099, 'federer': 965, 'max': 1689, 'tweets': 2895, 'hire': 1282, 'coz': 609, 'dislike': 746, 'jk': 1453, 'sneeze': 2496, 'episode': 875, 'bean': 238, 'crap': 612, 'bein': 255, 'brown': 370, 'ban': 213, 'ian': 1349, 'onto': 1930, 'sock': 2506, 'beg': 252, 'museum': 1808, 'present': 2127, 'attend': 167, 'chuck': 499, 'mode': 1762, 'gaga': 1079, 'speed': 2557, 'dammit': 657, 'april': 133, 'blip': 300, 'th': 2742, 'request': 2258, 'threw': 2783, 'map': 1668, 'yellow': 3166, 'pup': 2169, 'easily': 826, 'lord': 1615, 'wet': 3045, 'competition': 552, 'med': 1700, 'transformer': 2859, 'once': 1926, 'vip': 2978, 'steph': 2598, 'simple': 2446, 'peanut': 2012, 'butter': 401, 'pressure': 2130, 'from': 1060, 'appointment': 127, 'hung': 1340, 'hm': 1287, 'chem': 479, 'minus': 1744, 'clue': 524, 'sam': 2327, 'chance': 458, 'buying': 404, 'dirty': 738, 'prob': 2143, 'shin': 2410, 'donnie': 772, 'tonite': 2831, 'marathon': 1669, 'uploaded': 2942, 'escape': 880, 'mark': 1672, 'mike': 1734, 'however': 1329, 'upset': 2945, 'john': 1457, 'patient': 2005, 'maths': 1686, 'sub': 2635, 'delicious': 697, 'position': 2102, 'customer': 643, 'soooooo': 2535, 'disgust': 744, 'mint': 1743, 'icecream': 1351, 'coursework': 603, 'hunt': 1343, 'sinus': 2454, 'swing': 2684, 'reference': 2232, 'power': 2114, 'woot': 3114, 'refuse': 2234, 'push': 2176, 'wine': 3080, 'twitterberry': 2903, 'funeral': 1074, 'embarrass': 851, 'trouble': 2870, 'british': 362, 'windy': 3079, 'complicate': 556, 'anywhere': 118, 'hd': 1233, 'pile': 2052, 'needs': 1836, 'missin': 1749, 'china': 489, 'chase': 468, 'itchy': 1421, 'mag': 1646, 'umbrella': 2921, 'wicked': 3067, 'inside': 1389, 'with': 3094, 'tax': 2712, 'golf': 1124, 'angry': 100, 'tall': 2702, 'purpose': 2174, 'goodness': 1131, 'taylor': 2713, 'swift': 2681, 'drag': 785, 'paramore': 1988, 'character': 462, 'remain': 2244, 'yogurt': 3176, 'amazon': 86, 'kris': 1513, 'clear': 508, 'nicely': 1855, 'surprised': 2671, 'apprentice': 129, 'teach': 2717, 'lesson': 1565, 'kept': 1487, 'hangin': 1204, 'usually': 2957, 'trend': 2866, 'pm': 2084, 'mission': 1751, 'tasty': 2710, 'snack': 2493, 'eating': 832, 'healthy': 1243, 'apple': 124, 'third': 2772, 'contest': 574, 'thomas': 2776, 'sucky': 2643, 'otherwise': 1952, 'wants': 3005, 'buddy': 380, 'bang': 216, 'meal': 1695, 'umm': 2922, 'cartoon': 434, 'favor': 957, 'willing': 3074, 'ship': 2413, 'effin': 841, 'speaker': 2554, 'opportunity': 1941, 'allergy': 71, 'detroit': 717, 'lead': 1546, 'wings': 3082, 'massage': 1680, 'mon': 1768, 'notice': 1889, 'manage': 1663, 'megan': 1707, 'reunion': 2273, 'matt': 1687, 'midnight': 1731, 'cod': 529, 'yoga': 3175, 'inform': 1386, 'certainly': 453, 'tues': 2882, 'bloody': 308, 'germany': 1097, 'nerd': 1843, 'ummm': 2923, 'profile': 2150, 'thingy': 2768, 'mass': 1679, 'mmm': 1757, 'progress': 2152, 'quote': 2189, 'brain': 346, 'scratch': 2353, 'gain': 1081, 'nerve': 1844, 'novel': 1890, 'wire': 3086, 'mornin': 1781, 'island': 1414, 'cap': 426, 'button': 402, 'plate': 2069, 'indoors': 1383, 'floor': 1013, 'yard': 3156, 'fabulous': 929, 'dj': 755, 'bella': 259, 'cure': 636, 'cinema': 501, 'remix': 2249, 'downstairs': 782, 'ignore': 1361, 'general': 1092, 'whoa': 3060, 'ellen': 847, 'grey': 1159, 'pregnant': 2123, 'drain': 786, 'philippines': 2034, 'amy': 92, 'pant': 1984, 'theater': 2754, 'asshole': 155, 'correct': 591, 'sox': 2547, 'united': 2933, 'youuu': 3185, 'epic': 874, 'piano': 2042, 'therapy': 2761, 'certain': 452, 'plug': 2081, 'monitor': 1772, 'fat': 952, 'decision': 687, 'youth': 3182, 'guide': 1176, 'dig': 732, 'impossible': 1372, 'legal': 1558, 'female': 975, 'houston': 1327, 'tattoo': 2711, 'nighty': 1862, 'couch': 593, 'gooood': 1135, 'frm': 1059, 'hon': 1304, 'manchester': 1665, 'veggie': 2967, 'ireland': 1409, 'digital': 733, 'training': 2857, 'banana': 214, 'volunteer': 2985, 'east': 827, 'exams': 906, 'dan': 660, 'print': 2139, 'yer': 3168, 'golden': 1123, 'popcorn': 2098, 'tight': 2800, 'metal': 1720, 'cable': 409, 'factory': 933, 'atl': 161, 'interested': 1399, 'wall': 2998, 'male': 1659, 'noon': 1874, 'community': 548, 'stock': 2604, 'holly': 1297, 'bastard': 225, 'fear': 962, 'photoshop': 2040, 'program': 2151, 'ff': 979, 'soccer': 2503, 'necklace': 1833, 'alcohol': 65, 'bay': 230, 'review': 2274, 'base': 220, 'march': 1670, 'down': 780, 'yah': 3153, 'consider': 571, 'disappear': 740, 'literally': 1590, 'dat': 669, 'cheat': 471, 'dawn': 675, 'social': 2504, 'awkward': 189, 'mommy': 1767, 'massive': 1681, 'jacket': 1428, 'wen': 3041, 'done': 771, 'eu': 885, 'law': 1539, 'appt': 132, 'victoria': 2973, 'niece': 1858, 'nephew': 1842, 'britney': 363, 'yey': 3172, 'role': 2296, 'flood': 1012, 'stole': 2606, 'lately': 1532, 'vegas': 2966, 'gutted': 1182, 'metro': 1721, 'career': 430, 'similar': 2444, 'essay': 883, 'personally': 2028, 'pull': 2166, 'sushi': 2674, 'create': 620, 'announce': 105, 'seattle': 2364, 'weak': 3025, 'realise': 2215, 'extremely': 926, 'shipping': 2414, 'arm': 140, 'lee': 1555, 'sandwich': 2330, 'pity': 2059, 'sux': 2675, 'concentrate': 561, 'lounge': 1623, 'el': 846, 'michelle': 1728, 'lets': 1567, 'giant': 1103, 'candy': 424, 'hooked': 1312, 'sober': 2502, 'drunk': 803, 'wats': 3021, 'score': 2350, 'exercise': 914, 'dish': 745, 'tommorow': 2825, 'within': 3095, 'url': 2948, 'non': 1870, 'term': 2733, 'decent': 685, 'fishing': 999, 'paris': 1991, 'missing': 1750, 'poster': 2107, 'sport': 2569, 'exist': 916, 'seat': 2363, 'bathroom': 227, 'hardest': 1215, 'bugger': 383, 'client': 512, 'cancer': 423, 'include': 1377, 'action': 17, 'papa': 1985, 'harder': 1214, 'loved': 1625, 'asap': 148, 'teacher': 2718, 'cali': 413, 'microsoft': 1729, 'logo': 1602, 'bedroom': 246, 'window': 3077, 'ac': 4, 'sheet': 2407, 'feedback': 967, 'joking': 1461, 'incredible': 1378, 'nevermind': 1849, 'related': 2239, 'america': 87, 'australia': 175, 'neck': 1832, 'finals': 989, 'sooner': 2531, 'ebay': 833, 'skill': 2465, 'karma': 1480, 'access': 7, 'xxxx': 3150, 'poem': 2087, 'due': 808, 'harry': 1217, 'empty': 858, 'en': 859, 'mow': 1796, 'noo': 1872, 'ow': 1962, 'lock': 1600, 'milk': 1737, 'walmart': 3000, 'before': 251, 'charlotte': 466, 'were': 3043, 'grab': 1142, 'wth': 3140, 'mondays': 1770, 'doll': 767, 'died': 726, 'fri': 1052, 'frustrate': 1064, 'sooooo': 2534, 'painting': 1977, 'woken': 3102, 'piss': 2057, 'fruit': 1063, 'yeh': 3164, 'mario': 1671, 'planet': 2066, 'awe': 184, 'naked': 1818, 'honest': 1305, 'attention': 168, 'cloudy': 522, 'bk': 286, 'eatin': 831, 'sauce': 2337, 'perhaps': 2023, 'katy': 1483, 'jim': 1451, 'gun': 1180, 'austin': 174, 'his': 1283, 'lyric': 1639, 'ttyl': 2880, 'stink': 2603, 'toe': 2819, 'flickr': 1009, 'christian': 497, 'zombie': 3193, 'irish': 1410, 'lack': 1518, 'wana': 3002, 'paranoid': 1989, 'ben': 262, 'norway': 1883, 'skool': 2470, 'urgh': 2947, 'whoever': 3061, 'ftw': 1066, 'gross': 1163, 'device': 718, 'prolly': 2154, 'rubbish': 2309, 'miserable': 1746, 'probs': 2146, 'hay': 1231, 'iran': 1408, 'search': 2361, 'glasgow': 1111, 'title': 2812, 'starting': 2587, 'shake': 2399, 'poorly': 2096, 'uncle': 2926, 'hmmmm': 1290, 'panda': 1982, 'infection': 1384, 'blister': 301, 'national': 1823, 'pierce': 2050, 'period': 2024, 'badly': 204, 'tht': 2788, 'farrah': 948, 'fawcett': 960, 'angel': 98, 'comedy': 539, 'wars': 3010, 'windows': 3078, 'grandma': 1149, 'wishing': 3092, 'attempt': 166, 'tomato': 2824, 'nooo': 1876, 'tag': 2693, 'animal': 101, 'spoke': 2568, 'hah': 1190, 'cheap': 470, 'thrill': 2784, 'spain': 2549, 'shortly': 2424, 'fake': 938, 'icon': 1353, 'actual': 21, 'ew': 900, 'guest': 1175, 'mmmmm': 1759, 'running': 2314, 'kristen': 1514, 'santa': 2332, 'zero': 3192, 'bowl': 337, 'freeze': 1049, 'hooray': 1313, 'resist': 2262, 'amuse': 91, 'level': 1569, 'excuse': 913, 'log': 1601, 'garage': 1084, 'cupcake': 635, 'strike': 2622, 'ga': 1078, 'tempt': 2730, 'takin': 2695, 'monster': 1774, 'seeing': 2371, 'bing': 277, 'gear': 1089, 'took': 2834, 'pumped': 2167, 'tiny': 2807, 'difference': 729, 'hasnt': 1219, 'august': 171, 'ocean': 1902, 'seems': 2373, 'laura': 1537, 'roast': 2289, 'poison': 2089, 'cutest': 646, 'tiger': 2799, 'skip': 2468, 'duh': 809, 'crappy': 613, 'worried': 3124, 'shoulda': 2427, 'restore': 2268, 'usa': 2950, 'hip': 1281, 'sunbathe': 2654, 'precious': 2121, 'bleh': 294, 'hugs': 1336, 'firefox': 996, 'previous': 2134, 'basketball': 223, 'disappoint': 741, 'strange': 2614, 'ooo': 1933, 'league': 1548, 'deck': 688, 'tried': 2868, 'luckily': 1634, 'silver': 2443, 'spill': 2563, 'cereal': 451, 'held': 1258, 'whilst': 3057, 'local': 1598, 'zoo': 3195, 'palm': 1980, 'pre': 2120, 'steve': 2600, 'ughh': 2915, 'motivate': 1788, 'library': 1570, 'warp': 3009, 'stone': 2608, 'offline': 1911, 'india': 1381, 'charm': 467, 'rachel': 2192, 'married': 1676, 'seven': 2393, 'yuck': 3188, 'flat': 1006, 'os': 1950, 'gold': 1122, 'holla': 1296, 'ma': 1640, 'dun': 812, 'musical': 1810, 'charlie': 465, 'gone': 1127, 'recommendation': 2227, 'shud': 2432, 'toooo': 2837, 'launch': 1535, 'domain': 769, 'kyle': 1515, 'oven': 1959, 'stalk': 2580, 'homie': 1303, 'mary': 1678, 'purse': 2175, 'titanic': 2811, 'argentina': 138, 'wing': 3081, 'hockey': 1292, 'simply': 2447, 'reception': 2223, 'lover': 1627, 'suggest': 2648, 'struggle': 2625, 'mixed': 1755, 'package': 1969, 'twitterland': 2905, 'value': 2961, 'damage': 656, 'noooo': 1877, 'install': 1394, 'lmfao': 1595, 'convince': 579, 'thumb': 2789, 'bird': 280, 'flash': 1005, 'clock': 515, 'yayy': 3158, 'florida': 1014, 'recover': 2229, 'cooky': 584, 'indian': 1382, 'bust': 397, 'september': 2382, 'research': 2261, 'route': 2305, 'click': 511, 'philly': 2035, 'respect': 2263, 'express': 923, 'potter': 2111, 'prince': 2137, 'blanket': 291, 'legend': 1559, 'cutie': 647, 'dia': 721, 'africa': 38, 'fml': 1019, 'crave': 616, 'october': 1903, 'hall': 1200, 'location': 1599, 'singapore': 2451, 'unhappy': 2931, 'wolverine': 3103, 'wise': 3089, 'creepy': 623, 'drew': 793, 'someday': 2516, 'grand': 1148, 'sec': 2365, 'congratulations': 568, 'bull': 386, 'calm': 416, 'edge': 835, 'clearly': 509, 'crowd': 627, 'envy': 872, 'hater': 1222, 'havin': 1227, 'tx': 2909, 'center': 448, 'taco': 2692, 'useless': 2953, 'fucking': 1069, 'cherry': 481, 'hella': 1260, 'hanging': 1205, 'field': 980, 'tooo': 2836, 'exchange': 909, 'quiz': 2187, 'ex': 902, 'exit': 917, 'hates': 1223, 'ish': 1413, 'focus': 1021, 'thankfully': 2747, 'zone': 3194, 'le': 1545, 'creative': 621, 'plain': 2063, 'scare': 2344, 'tweetie': 2894, 'brings': 360, 'winner': 3083, 'stalker': 2581, 'disneyland': 748, 'robin': 2292, 'avoid': 178, 'closet': 518, 'gas': 1086, 'marry': 1677, 'earthquake': 825, 'earn': 823, 'faith': 937, 'anna': 103, 'peter': 2031, 'gud': 1173, 'comic': 542, 'talkin': 2700, 'playin': 2073, 'nigga': 1859, 'simon': 2445, 'thnx': 2774, 'flew': 1007, 'oo': 1931, 'highlight': 1273, 'wireless': 3087, 'deadline': 681, 'woah': 3100, 'crashed': 615, 'kim': 1496, 'potato': 2109, 'jason': 1437, 'apt': 134, 'playlist': 2075, 'tool': 2835, 'bound': 335, 'solve': 2513, 'jimmy': 1452, 'bracelet': 345, 'waking': 2995, 'provide': 2162, 'asian': 151, 'compliment': 557, 'central': 449, 'register': 2235, 'cruise': 629, 'prize': 2141, 'killer': 1495, 'stranger': 2615, 'script': 2357, 'insane': 1388, 'magazine': 1647, 'bottom': 333, 'nxt': 1896, 'accord': 11, 'bake': 209, 'ash': 149, 'avatar': 177, 'followers': 1025, 'sry': 2574, 'tank': 2704, 'apply': 126, 'cheesecake': 477, 'eric': 877, 'yahoo': 3154, 'donate': 770, 'skate': 2464, 'aunt': 172, 'vampire': 2962, 'potential': 2110, 'england': 863, 'scotland': 2351, 'audio': 169, 'several': 2394, 'wouldnt': 3129, 'beauty': 242, 'xp': 3147, 'overnight': 1961, 'heavy': 1251, 'awh': 187, 'mexico': 1723, 'times': 2805, 'adult': 33, 'bgt': 272, 'proper': 2158, 'ch': 454, 'relieve': 2243, 'require': 2259, 'daniel': 663, 'gona': 1126, 'transfer': 2858, 'ahah': 48, 'jb': 1440, 'menu': 1716, 'shape': 2402, 'lift': 1574, 'station': 2591, 'nkotb': 1866, 'angels': 99, 'demons': 703, 'orlando': 1949, 'balance': 211, 'spirit': 2565, 'hayfever': 1232, 'txt': 2910, 'ho': 1291, 'pro': 2142, 'definately': 691, 'wide': 3068, 'comfy': 541, 'wrap': 3131, 'split': 2566, 'supply': 2663, 'tongue': 2829, 'friggin': 1058, 'scott': 2352, 'actor': 20, 'involve': 1405, 'slip': 2480, 'mm': 1756, 'wa': 2988, 'bowling': 338, 'wed': 3030, 'reader': 2211, 'collection': 534, 'sonic': 2527, 'sayin': 2342, 'adore': 32, 'grrr': 1169, 'vids': 2976, 'heap': 1244, 'mental': 1714, 'cow': 608, 'panic': 1983, 'virtual': 2979, 'glorious': 1114, 'twitterer': 2904, 'wrk': 3137, 'flow': 1015, 'lebron': 1554, 'cavs': 442, 'sync': 2688, 'lang': 1525, 'gum': 1179, 'graphic': 1152, 'bone': 316, 'marley': 1675, 'aussie': 173, 'dessert': 715, 'wud': 3141, 'greek': 1156, 'ace': 13, 'recent': 2221, 'hows': 1330, 'bio': 278, 'dull': 810, 'celebration': 445, 'driving': 798, 'remote': 2250, 'talking': 2701, 'entry': 871, 'direction': 737, 'backup': 201, 'sausage': 2338, 'nine': 1863, 'porn': 2100, 'naw': 1826, 'jst': 1469, 'vibe': 2972, 'market': 1673, 'driver': 797, 'ups': 2944, 'rude': 2310, 'ng': 1853, 'fl': 1003, 'dust': 814, 'boom': 319, 'thousand': 2781, 'pal': 1979, 'spin': 2564, 'cast': 437, 'because': 243, 'katie': 1482, 'perry': 2025, 'cleveland': 510, 'everyones': 895, 'phil': 2033, 'er': 876, 'forgive': 1035, 'curl': 638, 'photography': 2039, 'workshop': 3122, 'grill': 1160, 'makin': 1657, 'ti': 2795, 'exact': 903, 'celebrity': 446, 'refer': 2231, 'gossip': 1138, 'belong': 261, 'sight': 2438, 'solution': 2512, 'content': 573, 'bah': 207, 'born': 326, 'hollywood': 1298, 'phoenix': 2036, 'wishes': 3091, 'accept': 6, 'own': 1964, 'biology': 279, 'dam': 655, 'shaun': 2404, 'dy': 818, 'cricket': 625, 'desk': 711, 'edition': 837, 'ahhhhh': 54, 'fo': 1020, 'thankful': 2746, 'homemade': 1301, 'sudden': 2644, 'tap': 2705, 'studying': 2630, 'flag': 1004, 'steak': 2595, 'gm': 1115, 'grrrr': 1170, 'kitten': 1502, 'none': 1871, 'jen': 1444, 'blogging': 305, 'dizzy': 754, 'mah': 1649, 'snl': 2497, 'grumpy': 1171, 'kay': 1484, 'torture': 2842, 'pin': 2055, 'damnit': 659, 'jerk': 1445, 'active': 18, 'strip': 2623, 'duck': 806, 'them': 2757, 'whoo': 3063, 'university': 2935, 'purple': 2173, 'waffle': 2989, 'cooler': 586, 'walking': 2997, 'transformers': 2860, 'display': 749, 'grandpa': 1150, 'ooooh': 1935, 'morn': 1780, 'roommate': 2300, 'serve': 2386, 'weed': 3034, 'accomplish': 10, 'devil': 719, 'warn': 3008, 'inspiration': 1391, 'diego': 727, 'comfort': 540, 'jersey': 1446, 'susan': 2673, 'boyle': 342, 'thee': 2756, 'trash': 2861, 'picnic': 2046, 'hint': 1280, 'pleased': 2077, 'goal': 1118, 'soundtrack': 2543, 'michael': 1727, 'fashion': 949, 'headphone': 1240, 'neglect': 1838, 'tape': 2706, 'whether': 3053, 'soft': 2508, 'twitterverse': 2906, 'grandparent': 1151, 'vista': 2982, 'highly': 1274, 'centre': 450, 'greet': 1158, 'esp': 881, 'drum': 802, 'afterwards': 41, 'easter': 828, 'tgif': 2741, 'patch': 2003, 'waitin': 2992, 'natural': 1824, 'brace': 344, 'skirt': 2469, 'circle': 502, 'rockin': 2294, 'nicole': 1857, 'marketing': 1674, 'task': 2708, 'jet': 1450, 'blonde': 306, 'passing': 1999, 'surely': 2667, 'safely': 2323, 'court': 604, 'distance': 750, 'trick': 2867, 'police': 2091, 'dougie': 779, 'wah': 2990, 'tournament': 2848, 'loop': 1613, 'stephen': 2599, 'flick': 1008, 'coverage': 607, 'ang': 97, 'premiere': 2124, 'selena': 2374, 'reminder': 2247, 'iced': 1352, 'battle': 229, 'noise': 1869, 'crawl': 617, 'pen': 2015, 'vancouver': 2964, 'tbh': 2714, 'hahahahaha': 1196, 'tweeple': 2889, 'towards': 2849, 'excitement': 912, 'port': 2101, 'thurs': 2792, 'gmail': 1116, 'teen': 2725, 'army': 141, 'noone': 1875, 'sunglass': 2659, 'needle': 1835, 'packing': 1971, 'opposite': 1942, 'activity': 19, 'punch': 2168, 'physic': 2041, 'stack': 2576, 'jessica': 1448, 'routine': 2306, 'normally': 1881, 'thai': 2744, 'dublin': 805, 'worst': 3126, 'junk': 1476, 'pattinson': 2007, 'moving': 1795, 'wipe': 3085, 'until': 2937, 'addictive': 28}\n"
          ],
          "name": "stdout"
        }
      ]
    },
    {
      "cell_type": "code",
      "metadata": {
        "id": "zuN4GkfUxWXD",
        "colab_type": "code",
        "colab": {}
      },
      "source": [
        "bow_x_treino = vect.transform(x_treino)\n",
        "bow_x_test = vect.transform(x_test)"
      ],
      "execution_count": null,
      "outputs": []
    },
    {
      "cell_type": "code",
      "metadata": {
        "id": "5cS9koxcxabi",
        "colab_type": "code",
        "colab": {
          "base_uri": "https://localhost:8080/",
          "height": 34
        },
        "outputId": "797d4ded-a85e-4cab-d839-9c3734ca841c"
      },
      "source": [
        "bow_x_treino.shape"
      ],
      "execution_count": null,
      "outputs": [
        {
          "output_type": "execute_result",
          "data": {
            "text/plain": [
              "(1200000, 3196)"
            ]
          },
          "metadata": {
            "tags": []
          },
          "execution_count": 62
        }
      ]
    },
    {
      "cell_type": "markdown",
      "metadata": {
        "id": "oz7hmi3p1-p0",
        "colab_type": "text"
      },
      "source": [
        "## Modelo"
      ]
    },
    {
      "cell_type": "code",
      "metadata": {
        "id": "cOPgg00Mxes7",
        "colab_type": "code",
        "colab": {
          "base_uri": "https://localhost:8080/",
          "height": 34
        },
        "outputId": "815117cb-766b-4788-ce59-d29773f43ca7"
      },
      "source": [
        "model = MultinomialNB()\n",
        "model.fit(bow_x_treino,y_treino)"
      ],
      "execution_count": null,
      "outputs": [
        {
          "output_type": "execute_result",
          "data": {
            "text/plain": [
              "MultinomialNB(alpha=1.0, class_prior=None, fit_prior=True)"
            ]
          },
          "metadata": {
            "tags": []
          },
          "execution_count": 64
        }
      ]
    },
    {
      "cell_type": "markdown",
      "metadata": {
        "id": "j7u2izyv2vq6",
        "colab_type": "text"
      },
      "source": [
        "### Score"
      ]
    },
    {
      "cell_type": "code",
      "metadata": {
        "id": "4wyHiDmbxnXv",
        "colab_type": "code",
        "colab": {
          "base_uri": "https://localhost:8080/",
          "height": 52
        },
        "outputId": "e0d412eb-d133-4cca-f2b9-887e38258d85"
      },
      "source": [
        "print(model.score(bow_x_treino,y_treino))\n",
        "print(model.score(bow_x_test,y_test))"
      ],
      "execution_count": null,
      "outputs": [
        {
          "output_type": "stream",
          "text": [
            "0.7542341666666666\n",
            "0.7531025\n"
          ],
          "name": "stdout"
        }
      ]
    },
    {
      "cell_type": "markdown",
      "metadata": {
        "id": "6f4zATa72E5k",
        "colab_type": "text"
      },
      "source": [
        "## Teste do Modelo\n",
        "\n",
        " * Frases 1, 3 e 6 são positivas\n",
        " * Frases 2 e 5 são negativas\n",
        " * Frase 4  ambigua"
      ]
    },
    {
      "cell_type": "code",
      "metadata": {
        "id": "Bry-16tqxpkG",
        "colab_type": "code",
        "colab": {}
      },
      "source": [
        "texto_teste = ['there’s nothing!!! nothing!!! that motivates and inspires me more than seeing young creatives in my city doing their thing... community!!!',\n",
        "                'they are unbearably ugly',\n",
        "                'I have evidence that friends are angels',\n",
        "                'the obsession with who did it first is limiting creativity',\n",
        "               'I’m so desperate to interact with a new person I’d let them “explain” blockchain.',\n",
        "               'finding the PDF is a different type of high'\n",
        "               ]"
      ],
      "execution_count": null,
      "outputs": []
    },
    {
      "cell_type": "code",
      "metadata": {
        "id": "zKj_BU3JzYrk",
        "colab_type": "code",
        "colab": {}
      },
      "source": [
        "bow_texto_teste = vect.transform(texto_teste)"
      ],
      "execution_count": null,
      "outputs": []
    },
    {
      "cell_type": "code",
      "metadata": {
        "id": "N3vogGMVzbJN",
        "colab_type": "code",
        "colab": {}
      },
      "source": [
        "saida_de_teste = model.predict(bow_texto_teste)"
      ],
      "execution_count": null,
      "outputs": []
    },
    {
      "cell_type": "code",
      "metadata": {
        "id": "JjF-7n3EzeCF",
        "colab_type": "code",
        "colab": {
          "base_uri": "https://localhost:8080/",
          "height": 121
        },
        "outputId": "4b4a3f3f-4b9e-426d-907a-48573878e5b4"
      },
      "source": [
        "dict_resposta = {0:'Negativo',1:'Positivo'}\n",
        "for i in saida_de_teste:\n",
        "  print(dict_resposta[i])"
      ],
      "execution_count": null,
      "outputs": [
        {
          "output_type": "stream",
          "text": [
            "Positivo\n",
            "Negativo\n",
            "Positivo\n",
            "Positivo\n",
            "Positivo\n",
            "Positivo\n"
          ],
          "name": "stdout"
        }
      ]
    },
    {
      "cell_type": "markdown",
      "metadata": {
        "id": "JGTiZ22T2p78",
        "colab_type": "text"
      },
      "source": [
        "## Matriz de Confusão"
      ]
    },
    {
      "cell_type": "code",
      "metadata": {
        "id": "25iC-zwBzgRD",
        "colab_type": "code",
        "colab": {
          "base_uri": "https://localhost:8080/",
          "height": 296
        },
        "outputId": "394f82b4-74ad-43d0-d87e-3a247b722e65"
      },
      "source": [
        "plot_confusion_matrix(estimator=model,X=bow_x_treino,y_true=y_treino,normalize='true',cmap=plt.cm.Blues)"
      ],
      "execution_count": null,
      "outputs": [
        {
          "output_type": "execute_result",
          "data": {
            "text/plain": [
              "<sklearn.metrics._plot.confusion_matrix.ConfusionMatrixDisplay at 0x7f51c0c66828>"
            ]
          },
          "metadata": {
            "tags": []
          },
          "execution_count": 89
        },
        {
          "output_type": "display_data",
          "data": {
            "image/png": "[encoded data removed]",
            "text/plain": [
              "<Figure size 432x288 with 2 Axes>"
            ]
          },
          "metadata": {
            "tags": [],
            "needs_background": "light"
          }
        }
      ]
    },
    {
      "cell_type": "code",
      "metadata": {
        "id": "M_0ShiDh1JpO",
        "colab_type": "code",
        "colab": {
          "base_uri": "https://localhost:8080/",
          "height": 296
        },
        "outputId": "ee79b81b-4cb8-44f0-8eb6-3e39e7b89dec"
      },
      "source": [
        "plot_confusion_matrix(estimator=model,X=bow_x_test,y_true=y_test,normalize='true',cmap=plt.cm.Greens)"
      ],
      "execution_count": null,
      "outputs": [
        {
          "output_type": "execute_result",
          "data": {
            "text/plain": [
              "<sklearn.metrics._plot.confusion_matrix.ConfusionMatrixDisplay at 0x7f51bf7f7860>"
            ]
          },
          "metadata": {
            "tags": []
          },
          "execution_count": 90
        },
        {
          "output_type": "display_data",
          "data": {
            "image/png": "[encoded data removed]",
            "text/plain": [
              "<Figure size 432x288 with 2 Axes>"
            ]
          },
          "metadata": {
            "tags": [],
            "needs_background": "light"
          }
        }
      ]
    },
    {
      "cell_type": "code",
      "metadata": {
        "id": "JIXJyFv91Pqb",
        "colab_type": "code",
        "colab": {}
      },
      "source": [
        ""
      ],
      "execution_count": null,
      "outputs": []
    }
  ]
}